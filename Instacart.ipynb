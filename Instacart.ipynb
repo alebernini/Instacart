{
 "cells": [
  {
   "cell_type": "markdown",
   "id": "mhIvmmkW414q",
   "metadata": {
    "id": "mhIvmmkW414q"
   },
   "source": [
    "# Introdução\n",
    "\n",
    "O Instacart é uma plataforma de entrega de supermercado onde os clientes podem fazer um pedido no supermercado e depois receber sua compra, semelhante ao funcionamento do Uber Eats e do iFood. O conjunto de dados que fornecemos foi modificado a partir do original. Reduzimos o tamanho dele para que seus cálculos sejam executados mais rapidamente e incluímos valores ausentes e duplicados. Também tivemos o cuidado de preservar as distribuições dos dados originais quando fizemos as alterações.\n",
    "\n",
    "Você precisa completar três etapas. Para cada uma delas, escreva uma breve introdução descrevendo como você pretende concluir a etapa e justifique suas decisões em parágrafos explicativos a medida que você avança na solução. Escreva também uma conclusão para resumir suas conclusões e escolhas.\n",
    "\n"
   ]
  },
  {
   "cell_type": "markdown",
   "id": "3MbyzpOQZ5Or",
   "metadata": {
    "id": "3MbyzpOQZ5Or"
   },
   "source": [
    "## Dicionário de dados\n",
    "\n",
    "Há cinco tabelas no conjunto de dados, e você vai precisar usar todas elas para pré-processar seus dados e fazer AED. Abaixo está um dicionário que lista as colunas de cada tabela e descreve os dados contidos nelas.\n",
    "\n",
    "- `instacart_orders.csv`: cada linha corresponde a um pedido no aplicativo da Instacart\n",
    "    - `'order_id'`: é o número que identifica cada pedido de forma exclusiva\n",
    "    - `'user_id'`: é o número de identificação exclusivo da conta de cada cliente\n",
    "    - `'order_number'`: é o número de vezes que o cliente fez um pedido\n",
    "    - `'order_dow'`: é o dia da semana em que o pedido foi feito (0 é domingo)\n",
    "    - `'order_hour_of_day'`: é a hora do dia em que o pedido foi feito\n",
    "    - `'days_since_prior_order'`: é o número de dias desde que o cliente fez seu pedido anterior\n",
    "\n",
    "\n",
    "\n",
    "\n",
    "- `products.csv`: cada linha corresponde a um produto exclusivo que os clientes podem comprar\n",
    "    - `'product_id'`: é o número de identificação unívoco de cada produto\n",
    "    - `'product_name'`: é o nome do produto\n",
    "    - `'aisle_id'`: é o número de identificação exclusivo de cada categoria de corredor do supermercado\n",
    "    - `'department_id'`: é o número de identificação exclusivo de cada categoria de departamento do supermercado\n",
    "\n",
    "\n",
    "\n",
    "\n",
    "-\t`order_products.csv`: cada linha corresponde a um item incluído em um pedido\n",
    "    -\t`'order_id'`: é o número que identifica cada pedido de forma exclusiva\n",
    "    -\t`'product_id'`: é o número de identificação exclusivo de cada produto\n",
    "    -\t`'add_to_cart_order'`: é a ordem sequencial em que cada item foi colocado no carrinho\n",
    "    -\t`'reordered'`: 0 se o cliente nunca comprou o produto antes, 1 se já o comprou\n",
    "\n",
    "\n",
    "\n",
    "\n",
    "-\t`aisles.csv`\n",
    "    -\t`'aisle_id'`: é o número de identificação exclusivo de cada categoria de corredor do supermercado\n",
    "    -\t`'aisle'`: é o nome do corredor\n",
    "\n",
    "\n",
    "\n",
    "-\t`departments.csv`\n",
    "    -\t`'department_id'`: é o número de identificação exclusivo de cada categoria de departamento do supermercado\n",
    "    -\t`'department'`: é o nome do departamento\n"
   ]
  },
  {
   "cell_type": "markdown",
   "id": "n3Ha_cNSZ8lK",
   "metadata": {
    "id": "n3Ha_cNSZ8lK"
   },
   "source": [
    "# Etapa 1. Visão geral dos dados\n",
    "\n",
    "Leia os arquivos de dados (/datasets/instacart_orders.csv, /datasets/products.csv, /datasets/aisles.csv, /datasets/departments.csv e /datasets/order_products.csv) com `pd.read_csv()` usando os parâmetros apropriados para fazer isso corretamente. Verifique as informações para cada DataFrame criado.\n"
   ]
  },
  {
   "cell_type": "markdown",
   "id": "OmlQPLlyaAfR",
   "metadata": {
    "id": "OmlQPLlyaAfR"
   },
   "source": [
    "## Plano de solução\n",
    "\n",
    "Escreva aqui seu plano para a Etapa 2. Visão geral dos dados"
   ]
  },
  {
   "cell_type": "code",
   "execution_count": 271,
   "id": "fbf1adab",
   "metadata": {
    "id": "fbf1adab"
   },
   "outputs": [],
   "source": [
    "import pandas as pd\n",
    "\n",
    "# Importe as bibliotecas"
   ]
  },
  {
   "cell_type": "code",
   "execution_count": 272,
   "id": "ad36396d",
   "metadata": {
    "id": "ad36396d"
   },
   "outputs": [],
   "source": [
    "orders = pd.read_csv('/datasets/instacart_orders.csv',sep=';')\n",
    "\n",
    "# leia os conjuntos de dados em DataFrames"
   ]
  },
  {
   "cell_type": "code",
   "execution_count": 273,
   "id": "ad6a1efa",
   "metadata": {
    "id": "ad6a1efa"
   },
   "outputs": [],
   "source": [
    "products = pd.read_csv('/datasets/products.csv',sep=';')\n",
    "\n",
    "# imprima as informações sobre o DataFrame"
   ]
  },
  {
   "cell_type": "code",
   "execution_count": 274,
   "id": "5130e05e",
   "metadata": {
    "id": "5130e05e"
   },
   "outputs": [],
   "source": [
    "aisles = pd.read_csv('/datasets/aisles.csv',sep=';')\n",
    "\n",
    "# imprima as informações sobre o DataFrame"
   ]
  },
  {
   "cell_type": "code",
   "execution_count": 275,
   "id": "d8370c05",
   "metadata": {
    "id": "d8370c05"
   },
   "outputs": [],
   "source": [
    "departments = pd.read_csv('/datasets/departments.csv',sep=';')\n",
    "\n",
    "# imprima as informações sobre o DataFrame"
   ]
  },
  {
   "cell_type": "code",
   "execution_count": 306,
   "id": "59e2090f",
   "metadata": {
    "id": "59e2090f"
   },
   "outputs": [],
   "source": [
    "order_products = pd.read_csv('/datasets/order_products.csv',sep=';')\n",
    "\n",
    "# imprima as informações sobre o DataFrame"
   ]
  },
  {
   "cell_type": "code",
   "execution_count": 277,
   "id": "6fc81694",
   "metadata": {
    "id": "6fc81694"
   },
   "outputs": [
    {
     "name": "stdout",
     "output_type": "stream",
     "text": [
      "        order_id  user_id  order_number  order_dow  order_hour_of_day  \\\n",
      "0        1515936   183418            11          6                 13   \n",
      "1        1690866   163593             5          5                 12   \n",
      "2        1454967    39980             4          5                 19   \n",
      "3        1768857    82516            56          0                 20   \n",
      "4        3007858   196724             2          4                 12   \n",
      "...          ...      ...           ...        ...                ...   \n",
      "478962   3210681     5617             5          1                 14   \n",
      "478963   3270802   112087             2          3                 13   \n",
      "478964    885349    82944            16          2                 11   \n",
      "478965    216274     4391             3          3                  8   \n",
      "478966   2071924     1730            18          1                 14   \n",
      "\n",
      "        days_since_prior_order  \n",
      "0                         30.0  \n",
      "1                          9.0  \n",
      "2                          2.0  \n",
      "3                         10.0  \n",
      "4                         17.0  \n",
      "...                        ...  \n",
      "478962                     7.0  \n",
      "478963                     6.0  \n",
      "478964                     6.0  \n",
      "478965                     8.0  \n",
      "478966                    15.0  \n",
      "\n",
      "[478967 rows x 6 columns]        product_id                                       product_name  \\\n",
      "0               1                         Chocolate Sandwich Cookies   \n",
      "1               2                                   All-Seasons Salt   \n",
      "2               3               Robust Golden Unsweetened Oolong Tea   \n",
      "3               4  Smart Ones Classic Favorites Mini Rigatoni Wit...   \n",
      "4               5                          Green Chile Anytime Sauce   \n",
      "...           ...                                                ...   \n",
      "49689       49690                      HIGH PERFORMANCE ENERGY DRINK   \n",
      "49690       49691                      ORIGINAL PANCAKE & WAFFLE MIX   \n",
      "49691       49692    ORGANIC INSTANT OATMEAL LIGHT MAPLE BROWN SUGAR   \n",
      "49692       49693                             SPRING WATER BODY WASH   \n",
      "49693       49694                            BURRITO- STEAK & CHEESE   \n",
      "\n",
      "       aisle_id  department_id  \n",
      "0            61             19  \n",
      "1           104             13  \n",
      "2            94              7  \n",
      "3            38              1  \n",
      "4             5             13  \n",
      "...         ...            ...  \n",
      "49689        64              7  \n",
      "49690       130             14  \n",
      "49691       130             14  \n",
      "49692       127             11  \n",
      "49693        38              1  \n",
      "\n",
      "[49694 rows x 4 columns]      aisle_id                       aisle\n",
      "0           1       prepared soups salads\n",
      "1           2           specialty cheeses\n",
      "2           3         energy granola bars\n",
      "3           4               instant foods\n",
      "4           5  marinades meat preparation\n",
      "..        ...                         ...\n",
      "129       130    hot cereal pancake mixes\n",
      "130       131                   dry pasta\n",
      "131       132                      beauty\n",
      "132       133  muscles joints pain relief\n",
      "133       134  specialty wines champagnes\n",
      "\n",
      "[134 rows x 2 columns]     department_id       department\n",
      "0               1           frozen\n",
      "1               2            other\n",
      "2               3           bakery\n",
      "3               4          produce\n",
      "4               5          alcohol\n",
      "5               6    international\n",
      "6               7        beverages\n",
      "7               8             pets\n",
      "8               9  dry goods pasta\n",
      "9              10             bulk\n",
      "10             11    personal care\n",
      "11             12     meat seafood\n",
      "12             13           pantry\n",
      "13             14        breakfast\n",
      "14             15     canned goods\n",
      "15             16       dairy eggs\n",
      "16             17        household\n",
      "17             18           babies\n",
      "18             19           snacks\n",
      "19             20             deli\n",
      "20             21          missing          order_id  product_id  add_to_cart_order  reordered\n",
      "0         2141543       11440               17.0          0\n",
      "1          567889        1560                1.0          1\n",
      "2         2261212       26683                1.0          1\n",
      "3          491251        8670               35.0          1\n",
      "4         2571142        1940                5.0          1\n",
      "...           ...         ...                ...        ...\n",
      "4545002    577211       15290               12.0          1\n",
      "4545003   1219554       21914                9.0          0\n",
      "4545004    692640       47766                4.0          1\n",
      "4545005    319435         691                8.0          1\n",
      "4545006   1398151       28733                9.0          0\n",
      "\n",
      "[4545007 rows x 4 columns]\n"
     ]
    }
   ],
   "source": [
    "print(orders, products, aisles, departments, order_products)\n",
    "\n",
    "# imprima as informações sobre o DataFrame"
   ]
  },
  {
   "cell_type": "markdown",
   "id": "t75BD19oaR5f",
   "metadata": {
    "id": "t75BD19oaR5f"
   },
   "source": [
    "## Conclusões\n",
    "\n",
    "Ao analisar o número de identificação de cada pedido (order_id) verificamos que há um total de 478967, \n",
    "porém há dados ausentes na coluna que indica a os dias que se passaram desde a última compra (days_since_prior_order), \n",
    "sendo um total de 450148. Nas colunas temos dados float e inteiros. Também há 15 itens duplicados.\n",
    "Para produtos há um total de 49694 registros, sendo do tipo float e object. Não há dados ausentes ou duplicados.\n",
    "Há um total de 5 corredores (aisles) e as colunas são do tipo float e object. Não há dados ausentes ou duplicados.\n",
    "Há um total de 5 departamentos (deparments) e as colunas são do tipo int e object. Não há dados ausentes ou duplicados.\n",
    "No arquivo de itens do pedido (order_products) há 5 registros do tipo float e int. Não há dados ausentes ou duplicados."
   ]
  },
  {
   "cell_type": "markdown",
   "id": "8RJHqxVmaVsF",
   "metadata": {
    "id": "8RJHqxVmaVsF"
   },
   "source": [
    "# Etapa 2. Preparação de dados\n",
    "\n",
    "Faça o pré-processamento dos dados da seguinte maneira:\n",
    "\n",
    "-\tVerifique e corrija os tipos de dados (por exemplo, certifique-se de que as colunas de ID sejam números inteiros)\n",
    "-\tIdentifique e preencha valores ausentes\n",
    "-\tIdentifique e remova valores duplicados\n",
    "\n",
    "Certifique-se de explicar que tipos de valores ausentes e duplicados você encontrou, como você os preencheu ou removeu, por que escolheu esses métodos e por que você acha que esses valores ausentes e duplicados estavam presentes no conjunto de dados."
   ]
  },
  {
   "cell_type": "markdown",
   "id": "p6poABZQaZYb",
   "metadata": {
    "id": "p6poABZQaZYb"
   },
   "source": [
    "## Plano de solução\n",
    "\n",
    "Com base na análise acima, será necessidade trabalhar os dados da coluna order_id, retirando os dados ausentes e duplicados."
   ]
  },
  {
   "cell_type": "markdown",
   "id": "07357848-dc64-4156-9cc3-01ff4365226d",
   "metadata": {
    "id": "07357848-dc64-4156-9cc3-01ff4365226d"
   },
   "source": [
    "## Encontre e remova valores duplicados (e descreva por que você está fazendo suas escolhas)"
   ]
  },
  {
   "cell_type": "markdown",
   "id": "f179f0a9",
   "metadata": {
    "id": "f179f0a9"
   },
   "source": [
    "### DataFrame `instacart_orders`"
   ]
  },
  {
   "cell_type": "code",
   "execution_count": 278,
   "id": "b99297a5-405a-463d-8535-9adc3da4ad74",
   "metadata": {
    "id": "b99297a5-405a-463d-8535-9adc3da4ad74"
   },
   "outputs": [
    {
     "data": {
      "text/plain": [
       "15"
      ]
     },
     "execution_count": 278,
     "metadata": {},
     "output_type": "execute_result"
    }
   ],
   "source": [
    "orders.duplicated().sum()\n",
    "\n",
    "# Verificar se há pedidos duplicados"
   ]
  },
  {
   "cell_type": "markdown",
   "id": "PEkwUX_gvt5A",
   "metadata": {
    "id": "PEkwUX_gvt5A"
   },
   "source": [
    "Há 15 linhas duplicadas. "
   ]
  },
  {
   "cell_type": "code",
   "execution_count": 279,
   "id": "0d44de5d",
   "metadata": {
    "id": "0d44de5d"
   },
   "outputs": [
    {
     "data": {
      "text/html": [
       "<div>\n",
       "<style scoped>\n",
       "    .dataframe tbody tr th:only-of-type {\n",
       "        vertical-align: middle;\n",
       "    }\n",
       "\n",
       "    .dataframe tbody tr th {\n",
       "        vertical-align: top;\n",
       "    }\n",
       "\n",
       "    .dataframe thead th {\n",
       "        text-align: right;\n",
       "    }\n",
       "</style>\n",
       "<table border=\"1\" class=\"dataframe\">\n",
       "  <thead>\n",
       "    <tr style=\"text-align: right;\">\n",
       "      <th></th>\n",
       "      <th>order_id</th>\n",
       "      <th>user_id</th>\n",
       "      <th>order_number</th>\n",
       "      <th>order_dow</th>\n",
       "      <th>order_hour_of_day</th>\n",
       "      <th>days_since_prior_order</th>\n",
       "    </tr>\n",
       "  </thead>\n",
       "  <tbody>\n",
       "    <tr>\n",
       "      <th>145574</th>\n",
       "      <td>794638</td>\n",
       "      <td>50898</td>\n",
       "      <td>24</td>\n",
       "      <td>3</td>\n",
       "      <td>2</td>\n",
       "      <td>2.0</td>\n",
       "    </tr>\n",
       "    <tr>\n",
       "      <th>223105</th>\n",
       "      <td>2160484</td>\n",
       "      <td>107525</td>\n",
       "      <td>16</td>\n",
       "      <td>3</td>\n",
       "      <td>2</td>\n",
       "      <td>30.0</td>\n",
       "    </tr>\n",
       "    <tr>\n",
       "      <th>230807</th>\n",
       "      <td>1918001</td>\n",
       "      <td>188546</td>\n",
       "      <td>14</td>\n",
       "      <td>3</td>\n",
       "      <td>2</td>\n",
       "      <td>16.0</td>\n",
       "    </tr>\n",
       "    <tr>\n",
       "      <th>266232</th>\n",
       "      <td>1782114</td>\n",
       "      <td>106752</td>\n",
       "      <td>1</td>\n",
       "      <td>3</td>\n",
       "      <td>2</td>\n",
       "      <td>NaN</td>\n",
       "    </tr>\n",
       "    <tr>\n",
       "      <th>273805</th>\n",
       "      <td>1112182</td>\n",
       "      <td>202304</td>\n",
       "      <td>84</td>\n",
       "      <td>3</td>\n",
       "      <td>2</td>\n",
       "      <td>6.0</td>\n",
       "    </tr>\n",
       "    <tr>\n",
       "      <th>284038</th>\n",
       "      <td>2845099</td>\n",
       "      <td>31189</td>\n",
       "      <td>11</td>\n",
       "      <td>3</td>\n",
       "      <td>2</td>\n",
       "      <td>7.0</td>\n",
       "    </tr>\n",
       "    <tr>\n",
       "      <th>311713</th>\n",
       "      <td>1021560</td>\n",
       "      <td>53767</td>\n",
       "      <td>3</td>\n",
       "      <td>3</td>\n",
       "      <td>2</td>\n",
       "      <td>9.0</td>\n",
       "    </tr>\n",
       "    <tr>\n",
       "      <th>321100</th>\n",
       "      <td>408114</td>\n",
       "      <td>68324</td>\n",
       "      <td>4</td>\n",
       "      <td>3</td>\n",
       "      <td>2</td>\n",
       "      <td>18.0</td>\n",
       "    </tr>\n",
       "    <tr>\n",
       "      <th>323900</th>\n",
       "      <td>1919531</td>\n",
       "      <td>191501</td>\n",
       "      <td>32</td>\n",
       "      <td>3</td>\n",
       "      <td>2</td>\n",
       "      <td>7.0</td>\n",
       "    </tr>\n",
       "    <tr>\n",
       "      <th>345917</th>\n",
       "      <td>2232988</td>\n",
       "      <td>82565</td>\n",
       "      <td>1</td>\n",
       "      <td>3</td>\n",
       "      <td>2</td>\n",
       "      <td>NaN</td>\n",
       "    </tr>\n",
       "    <tr>\n",
       "      <th>371905</th>\n",
       "      <td>391768</td>\n",
       "      <td>57671</td>\n",
       "      <td>19</td>\n",
       "      <td>3</td>\n",
       "      <td>2</td>\n",
       "      <td>10.0</td>\n",
       "    </tr>\n",
       "    <tr>\n",
       "      <th>394347</th>\n",
       "      <td>467134</td>\n",
       "      <td>63189</td>\n",
       "      <td>21</td>\n",
       "      <td>3</td>\n",
       "      <td>2</td>\n",
       "      <td>2.0</td>\n",
       "    </tr>\n",
       "    <tr>\n",
       "      <th>411408</th>\n",
       "      <td>1286742</td>\n",
       "      <td>183220</td>\n",
       "      <td>48</td>\n",
       "      <td>3</td>\n",
       "      <td>2</td>\n",
       "      <td>4.0</td>\n",
       "    </tr>\n",
       "    <tr>\n",
       "      <th>415163</th>\n",
       "      <td>2282673</td>\n",
       "      <td>86751</td>\n",
       "      <td>49</td>\n",
       "      <td>3</td>\n",
       "      <td>2</td>\n",
       "      <td>2.0</td>\n",
       "    </tr>\n",
       "    <tr>\n",
       "      <th>441599</th>\n",
       "      <td>2125197</td>\n",
       "      <td>14050</td>\n",
       "      <td>48</td>\n",
       "      <td>3</td>\n",
       "      <td>2</td>\n",
       "      <td>3.0</td>\n",
       "    </tr>\n",
       "  </tbody>\n",
       "</table>\n",
       "</div>"
      ],
      "text/plain": [
       "        order_id  user_id  order_number  order_dow  order_hour_of_day  \\\n",
       "145574    794638    50898            24          3                  2   \n",
       "223105   2160484   107525            16          3                  2   \n",
       "230807   1918001   188546            14          3                  2   \n",
       "266232   1782114   106752             1          3                  2   \n",
       "273805   1112182   202304            84          3                  2   \n",
       "284038   2845099    31189            11          3                  2   \n",
       "311713   1021560    53767             3          3                  2   \n",
       "321100    408114    68324             4          3                  2   \n",
       "323900   1919531   191501            32          3                  2   \n",
       "345917   2232988    82565             1          3                  2   \n",
       "371905    391768    57671            19          3                  2   \n",
       "394347    467134    63189            21          3                  2   \n",
       "411408   1286742   183220            48          3                  2   \n",
       "415163   2282673    86751            49          3                  2   \n",
       "441599   2125197    14050            48          3                  2   \n",
       "\n",
       "        days_since_prior_order  \n",
       "145574                     2.0  \n",
       "223105                    30.0  \n",
       "230807                    16.0  \n",
       "266232                     NaN  \n",
       "273805                     6.0  \n",
       "284038                     7.0  \n",
       "311713                     9.0  \n",
       "321100                    18.0  \n",
       "323900                     7.0  \n",
       "345917                     NaN  \n",
       "371905                    10.0  \n",
       "394347                     2.0  \n",
       "411408                     4.0  \n",
       "415163                     2.0  \n",
       "441599                     3.0  "
      ]
     },
     "execution_count": 279,
     "metadata": {},
     "output_type": "execute_result"
    }
   ],
   "source": [
    "orders[orders.duplicated()]\n",
    "\n",
    "# Com base nas suas conclusões,\n",
    "\n",
    "# verifique todos os pedidos feitos às 2h da manhã nas quartas-feiras"
   ]
  },
  {
   "cell_type": "markdown",
   "id": "vu2OWyoqwOx5",
   "metadata": {
    "id": "vu2OWyoqwOx5"
   },
   "source": [
    "É possível confirmar que os duplicados se concentram em compras feitas \n",
    "às quartas-feiras (order_dow) e às 2 da manhã (order_hour_of_day)."
   ]
  },
  {
   "cell_type": "code",
   "execution_count": 280,
   "id": "480563c7",
   "metadata": {
    "id": "480563c7"
   },
   "outputs": [],
   "source": [
    "orders.drop_duplicates(inplace=True)\n",
    "\n",
    "# Remova pedidos duplicados"
   ]
  },
  {
   "cell_type": "code",
   "execution_count": 281,
   "id": "0b2396a2",
   "metadata": {
    "id": "0b2396a2",
    "scrolled": true
   },
   "outputs": [
    {
     "data": {
      "text/plain": [
       "0"
      ]
     },
     "execution_count": 281,
     "metadata": {},
     "output_type": "execute_result"
    }
   ],
   "source": [
    "orders.duplicated().sum()\n",
    "\n",
    "# Verifique as linhas duplicadas mais uma vez"
   ]
  },
  {
   "cell_type": "code",
   "execution_count": 282,
   "id": "f6113ef1",
   "metadata": {
    "id": "f6113ef1"
   },
   "outputs": [
    {
     "data": {
      "text/plain": [
       "product_id       0.0\n",
       "product_name     0.0\n",
       "aisle_id         0.0\n",
       "department_id    0.0\n",
       "dtype: float64"
      ]
     },
     "execution_count": 282,
     "metadata": {},
     "output_type": "execute_result"
    }
   ],
   "source": [
    "duplicated_order_ids = products[products.duplicated('product_id')].sum()\n",
    "\n",
    "duplicated_order_ids\n",
    "\n",
    "# Verifique novamente apenas os IDs de pedidos duplicados"
   ]
  },
  {
   "cell_type": "markdown",
   "id": "5e8905ae",
   "metadata": {
    "id": "5e8905ae"
   },
   "source": [
    "As 15 linhas duplicadas foram removidas pela função drop() e confirmadas ao rodar novamente apenas os IDs duplicados.\n",
    "\n",
    "#Descreva brevemente suas conclusões e o que você fez com elas."
   ]
  },
  {
   "cell_type": "markdown",
   "id": "45e6bc46",
   "metadata": {
    "id": "45e6bc46"
   },
   "source": [
    "### DataFrame `products`"
   ]
  },
  {
   "cell_type": "code",
   "execution_count": 283,
   "id": "5f526b5b-8175-46fa-a0fd-441767d50e64",
   "metadata": {
    "id": "5f526b5b-8175-46fa-a0fd-441767d50e64"
   },
   "outputs": [
    {
     "data": {
      "text/plain": [
       "0"
      ]
     },
     "execution_count": 283,
     "metadata": {},
     "output_type": "execute_result"
    }
   ],
   "source": [
    "products.duplicated().sum()\n",
    "\n",
    "# Verifique se há linhas completamente duplicadas"
   ]
  },
  {
   "cell_type": "code",
   "execution_count": 284,
   "id": "88daa4f4",
   "metadata": {
    "id": "88daa4f4"
   },
   "outputs": [
    {
     "data": {
      "text/plain": [
       "product_id       0.0\n",
       "product_name     0.0\n",
       "aisle_id         0.0\n",
       "department_id    0.0\n",
       "dtype: float64"
      ]
     },
     "execution_count": 284,
     "metadata": {},
     "output_type": "execute_result"
    }
   ],
   "source": [
    "duplicated_products_ids = products[products.duplicated('product_id')].sum()\n",
    "\n",
    "duplicated_products_ids\n",
    "\n",
    "# Verifique apenas IDs dos produtos duplicados"
   ]
  },
  {
   "cell_type": "code",
   "execution_count": 285,
   "id": "c773f0bf",
   "metadata": {
    "id": "c773f0bf"
   },
   "outputs": [
    {
     "data": {
      "text/plain": [
       "0                               chocolate sandwich cookies\n",
       "1                                         all-seasons salt\n",
       "2                     robust golden unsweetened oolong tea\n",
       "3        smart ones classic favorites mini rigatoni wit...\n",
       "4                                green chile anytime sauce\n",
       "                               ...                        \n",
       "49689                        high performance energy drink\n",
       "49690                        original pancake & waffle mix\n",
       "49691      organic instant oatmeal light maple brown sugar\n",
       "49692                               spring water body wash\n",
       "49693                              burrito- steak & cheese\n",
       "Name: product_name, Length: 49694, dtype: object"
      ]
     },
     "execution_count": 285,
     "metadata": {},
     "output_type": "execute_result"
    }
   ],
   "source": [
    "products.drop_duplicates(inplace=True)\n",
    "products.duplicated().sum()\n",
    "\n",
    "products_name_lower = products['product_name'].str.lower()\n",
    "products_name_lower\n",
    "\n",
    "# Verifique apenas nomes de produtos duplicados (converta os nomes para minúsculas para uma comparação melhor)"
   ]
  },
  {
   "cell_type": "code",
   "execution_count": 286,
   "id": "01efd02e",
   "metadata": {
    "id": "01efd02e"
   },
   "outputs": [
    {
     "data": {
      "text/plain": [
       "0"
      ]
     },
     "execution_count": 286,
     "metadata": {},
     "output_type": "execute_result"
    }
   ],
   "source": [
    "products.drop_duplicates(inplace=False)\n",
    "products.duplicated().sum()\n",
    "\n",
    "# Verifique os nomes de produtos duplicados que não estão faltando"
   ]
  },
  {
   "cell_type": "markdown",
   "id": "9da8d293",
   "metadata": {
    "id": "9da8d293"
   },
   "source": [
    "Não há valores duplicados em 'products', porém o nome dos produtos estavam em maísculas. Os nomes foram convertidos para minúsculos para facilitar as comparações.\n",
    "\n",
    "#Descreva brevemente suas conclusões e o que você fez com elas."
   ]
  },
  {
   "cell_type": "markdown",
   "id": "60f30db1",
   "metadata": {
    "id": "60f30db1"
   },
   "source": [
    "### DataFrame `departments`"
   ]
  },
  {
   "cell_type": "code",
   "execution_count": 287,
   "id": "fb410ad4-0fbf-4b80-bb09-23fdea79afe3",
   "metadata": {
    "id": "fb410ad4-0fbf-4b80-bb09-23fdea79afe3"
   },
   "outputs": [
    {
     "data": {
      "text/plain": [
       "0"
      ]
     },
     "execution_count": 287,
     "metadata": {},
     "output_type": "execute_result"
    }
   ],
   "source": [
    "departments.duplicated().sum()\n",
    "\n",
    "# Verifique se há linhas completamente duplicadas"
   ]
  },
  {
   "cell_type": "code",
   "execution_count": 288,
   "id": "332b12bb",
   "metadata": {
    "id": "332b12bb"
   },
   "outputs": [
    {
     "data": {
      "text/plain": [
       "0"
      ]
     },
     "execution_count": 288,
     "metadata": {},
     "output_type": "execute_result"
    }
   ],
   "source": [
    "departments_duplicated_count = departments.duplicated(subset=['department_id']).sum()\n",
    "departments_duplicated_count\n",
    "\n",
    "\n",
    "# Verifique apenas se há IDs dos produtos duplicados"
   ]
  },
  {
   "cell_type": "markdown",
   "id": "bd30d78e",
   "metadata": {
    "id": "bd30d78e"
   },
   "source": [
    "Não encontramos registros duplicados em departamentos."
   ]
  },
  {
   "cell_type": "markdown",
   "id": "889349c1",
   "metadata": {
    "id": "889349c1"
   },
   "source": [
    "### DataFrame `aisles`"
   ]
  },
  {
   "cell_type": "code",
   "execution_count": 289,
   "id": "9da89fb9-4679-40f5-ad0d-c34df753a3f8",
   "metadata": {
    "id": "9da89fb9-4679-40f5-ad0d-c34df753a3f8"
   },
   "outputs": [
    {
     "data": {
      "text/plain": [
       "0"
      ]
     },
     "execution_count": 289,
     "metadata": {},
     "output_type": "execute_result"
    }
   ],
   "source": [
    "aisles.duplicated().sum()\n",
    "\n",
    "# Verifique se há linhas completamente duplicadas"
   ]
  },
  {
   "cell_type": "code",
   "execution_count": 290,
   "id": "da7c2822",
   "metadata": {
    "id": "da7c2822",
    "scrolled": true
   },
   "outputs": [
    {
     "name": "stdout",
     "output_type": "stream",
     "text": [
      "0\n"
     ]
    }
   ],
   "source": [
    "aisles_duplicated_count = aisles.duplicated(subset=['aisle_id']).sum()\n",
    "print(aisles_duplicated_count)\n",
    "\n",
    "# Verifique apenas se há IDs dos produtos duplicados"
   ]
  },
  {
   "cell_type": "markdown",
   "id": "ac63826f",
   "metadata": {
    "id": "ac63826f"
   },
   "source": [
    "Não encontramos registros duplicados em corredores."
   ]
  },
  {
   "cell_type": "markdown",
   "id": "274cd06a",
   "metadata": {
    "id": "274cd06a"
   },
   "source": [
    "### DataFrame `order_products`"
   ]
  },
  {
   "cell_type": "code",
   "execution_count": 291,
   "id": "52326689-84a8-4b8f-a881-7c68780f62c9",
   "metadata": {
    "id": "52326689-84a8-4b8f-a881-7c68780f62c9"
   },
   "outputs": [
    {
     "data": {
      "text/plain": [
       "0"
      ]
     },
     "execution_count": 291,
     "metadata": {},
     "output_type": "execute_result"
    }
   ],
   "source": [
    "order_products.duplicated().sum()\n",
    "\n",
    "# Verifique se há linhas completamente duplicadas"
   ]
  },
  {
   "cell_type": "code",
   "execution_count": 292,
   "id": "7b861391",
   "metadata": {
    "id": "7b861391"
   },
   "outputs": [
    {
     "name": "stdout",
     "output_type": "stream",
     "text": [
      "0\n"
     ]
    }
   ],
   "source": [
    "order_products_duplicated_count = order_products.duplicated(subset=['order_id','product_id','add_to_cart_order','reordered']).sum()\n",
    "print(order_products_duplicated_count)\n",
    "\n",
    "# Verifique mais uma vez se há outros casos complicados de duplicados"
   ]
  },
  {
   "cell_type": "markdown",
   "id": "0b890492",
   "metadata": {
    "id": "0b890492"
   },
   "source": [
    "Não encontramos registros duplicados nos itens dos pedidos comprados."
   ]
  },
  {
   "cell_type": "markdown",
   "id": "1e46de76",
   "metadata": {
    "id": "1e46de76"
   },
   "source": [
    "## Encontre e remova valores ausentes\n",
    "\n",
    "\n",
    "Ao processarmos valores duplicados, observamos que também temos valores ausentes que precisamos investigar nas seguintes colunas:\n",
    "\n",
    "*\tA coluna `'product_name'` da tabela products.\n",
    "*\tA coluna `'days_since_prior_order'` da tabela orders.\n",
    "*\tA coluna `'add_to_cart_order'` da tabela order_products.\n"
   ]
  },
  {
   "cell_type": "markdown",
   "id": "c0aebd78",
   "metadata": {
    "id": "c0aebd78"
   },
   "source": [
    "### DataFrame `products`"
   ]
  },
  {
   "cell_type": "code",
   "execution_count": 293,
   "id": "fe4a8b0f",
   "metadata": {
    "id": "fe4a8b0f"
   },
   "outputs": [
    {
     "data": {
      "text/plain": [
       "1258"
      ]
     },
     "execution_count": 293,
     "metadata": {},
     "output_type": "execute_result"
    }
   ],
   "source": [
    "products['product_name'].isna().sum()\n",
    "\n",
    "# Encontre valores ausentes na coluna 'product_name'"
   ]
  },
  {
   "cell_type": "code",
   "execution_count": 294,
   "id": "64f7604d",
   "metadata": {},
   "outputs": [
    {
     "data": {
      "text/plain": [
       "1258"
      ]
     },
     "execution_count": 294,
     "metadata": {},
     "output_type": "execute_result"
    }
   ],
   "source": [
    "products['product_name'].isna().sum()"
   ]
  },
  {
   "cell_type": "markdown",
   "id": "-A6x1AbJhjkp",
   "metadata": {
    "id": "-A6x1AbJhjkp"
   },
   "source": [
    "Há 1258 valores ausentes no arquivo 'products', na coluna que possui o nome dos produtos. Descreva brevemente suas conclusões."
   ]
  },
  {
   "cell_type": "code",
   "execution_count": 295,
   "id": "e96167bc",
   "metadata": {
    "id": "e96167bc"
   },
   "outputs": [
    {
     "data": {
      "text/html": [
       "<div>\n",
       "<style scoped>\n",
       "    .dataframe tbody tr th:only-of-type {\n",
       "        vertical-align: middle;\n",
       "    }\n",
       "\n",
       "    .dataframe tbody tr th {\n",
       "        vertical-align: top;\n",
       "    }\n",
       "\n",
       "    .dataframe thead th {\n",
       "        text-align: right;\n",
       "    }\n",
       "</style>\n",
       "<table border=\"1\" class=\"dataframe\">\n",
       "  <thead>\n",
       "    <tr style=\"text-align: right;\">\n",
       "      <th></th>\n",
       "      <th>product_id</th>\n",
       "      <th>product_name</th>\n",
       "      <th>aisle_id</th>\n",
       "      <th>department_id</th>\n",
       "    </tr>\n",
       "  </thead>\n",
       "  <tbody>\n",
       "    <tr>\n",
       "      <th>37</th>\n",
       "      <td>38</td>\n",
       "      <td>NaN</td>\n",
       "      <td>100</td>\n",
       "      <td>21</td>\n",
       "    </tr>\n",
       "    <tr>\n",
       "      <th>71</th>\n",
       "      <td>72</td>\n",
       "      <td>NaN</td>\n",
       "      <td>100</td>\n",
       "      <td>21</td>\n",
       "    </tr>\n",
       "    <tr>\n",
       "      <th>109</th>\n",
       "      <td>110</td>\n",
       "      <td>NaN</td>\n",
       "      <td>100</td>\n",
       "      <td>21</td>\n",
       "    </tr>\n",
       "    <tr>\n",
       "      <th>296</th>\n",
       "      <td>297</td>\n",
       "      <td>NaN</td>\n",
       "      <td>100</td>\n",
       "      <td>21</td>\n",
       "    </tr>\n",
       "    <tr>\n",
       "      <th>416</th>\n",
       "      <td>417</td>\n",
       "      <td>NaN</td>\n",
       "      <td>100</td>\n",
       "      <td>21</td>\n",
       "    </tr>\n",
       "    <tr>\n",
       "      <th>...</th>\n",
       "      <td>...</td>\n",
       "      <td>...</td>\n",
       "      <td>...</td>\n",
       "      <td>...</td>\n",
       "    </tr>\n",
       "    <tr>\n",
       "      <th>49552</th>\n",
       "      <td>49553</td>\n",
       "      <td>NaN</td>\n",
       "      <td>100</td>\n",
       "      <td>21</td>\n",
       "    </tr>\n",
       "    <tr>\n",
       "      <th>49574</th>\n",
       "      <td>49575</td>\n",
       "      <td>NaN</td>\n",
       "      <td>100</td>\n",
       "      <td>21</td>\n",
       "    </tr>\n",
       "    <tr>\n",
       "      <th>49640</th>\n",
       "      <td>49641</td>\n",
       "      <td>NaN</td>\n",
       "      <td>100</td>\n",
       "      <td>21</td>\n",
       "    </tr>\n",
       "    <tr>\n",
       "      <th>49663</th>\n",
       "      <td>49664</td>\n",
       "      <td>NaN</td>\n",
       "      <td>100</td>\n",
       "      <td>21</td>\n",
       "    </tr>\n",
       "    <tr>\n",
       "      <th>49668</th>\n",
       "      <td>49669</td>\n",
       "      <td>NaN</td>\n",
       "      <td>100</td>\n",
       "      <td>21</td>\n",
       "    </tr>\n",
       "  </tbody>\n",
       "</table>\n",
       "<p>1258 rows × 4 columns</p>\n",
       "</div>"
      ],
      "text/plain": [
       "       product_id product_name  aisle_id  department_id\n",
       "37             38          NaN       100             21\n",
       "71             72          NaN       100             21\n",
       "109           110          NaN       100             21\n",
       "296           297          NaN       100             21\n",
       "416           417          NaN       100             21\n",
       "...           ...          ...       ...            ...\n",
       "49552       49553          NaN       100             21\n",
       "49574       49575          NaN       100             21\n",
       "49640       49641          NaN       100             21\n",
       "49663       49664          NaN       100             21\n",
       "49668       49669          NaN       100             21\n",
       "\n",
       "[1258 rows x 4 columns]"
      ]
     },
     "execution_count": 295,
     "metadata": {},
     "output_type": "execute_result"
    }
   ],
   "source": [
    "products[products['aisle_id'] == 100]\n",
    "\n",
    "# Todos os nomes de produtos ausentes estão associados com o corredor de ID 100?"
   ]
  },
  {
   "cell_type": "markdown",
   "id": "WRpIfXRphpSL",
   "metadata": {
    "id": "WRpIfXRphpSL"
   },
   "source": [
    "Do total de 1258 valores ausentes no arquivo 'products', podemos identificar que a totalidade está concentrada no corredor 100."
   ]
  },
  {
   "cell_type": "code",
   "execution_count": 296,
   "id": "8fd0a541",
   "metadata": {
    "id": "8fd0a541"
   },
   "outputs": [
    {
     "data": {
      "text/html": [
       "<div>\n",
       "<style scoped>\n",
       "    .dataframe tbody tr th:only-of-type {\n",
       "        vertical-align: middle;\n",
       "    }\n",
       "\n",
       "    .dataframe tbody tr th {\n",
       "        vertical-align: top;\n",
       "    }\n",
       "\n",
       "    .dataframe thead th {\n",
       "        text-align: right;\n",
       "    }\n",
       "</style>\n",
       "<table border=\"1\" class=\"dataframe\">\n",
       "  <thead>\n",
       "    <tr style=\"text-align: right;\">\n",
       "      <th></th>\n",
       "      <th>product_id</th>\n",
       "      <th>product_name</th>\n",
       "      <th>aisle_id</th>\n",
       "      <th>department_id</th>\n",
       "    </tr>\n",
       "  </thead>\n",
       "  <tbody>\n",
       "    <tr>\n",
       "      <th>37</th>\n",
       "      <td>38</td>\n",
       "      <td>NaN</td>\n",
       "      <td>100</td>\n",
       "      <td>21</td>\n",
       "    </tr>\n",
       "    <tr>\n",
       "      <th>71</th>\n",
       "      <td>72</td>\n",
       "      <td>NaN</td>\n",
       "      <td>100</td>\n",
       "      <td>21</td>\n",
       "    </tr>\n",
       "    <tr>\n",
       "      <th>109</th>\n",
       "      <td>110</td>\n",
       "      <td>NaN</td>\n",
       "      <td>100</td>\n",
       "      <td>21</td>\n",
       "    </tr>\n",
       "    <tr>\n",
       "      <th>296</th>\n",
       "      <td>297</td>\n",
       "      <td>NaN</td>\n",
       "      <td>100</td>\n",
       "      <td>21</td>\n",
       "    </tr>\n",
       "    <tr>\n",
       "      <th>416</th>\n",
       "      <td>417</td>\n",
       "      <td>NaN</td>\n",
       "      <td>100</td>\n",
       "      <td>21</td>\n",
       "    </tr>\n",
       "    <tr>\n",
       "      <th>...</th>\n",
       "      <td>...</td>\n",
       "      <td>...</td>\n",
       "      <td>...</td>\n",
       "      <td>...</td>\n",
       "    </tr>\n",
       "    <tr>\n",
       "      <th>49552</th>\n",
       "      <td>49553</td>\n",
       "      <td>NaN</td>\n",
       "      <td>100</td>\n",
       "      <td>21</td>\n",
       "    </tr>\n",
       "    <tr>\n",
       "      <th>49574</th>\n",
       "      <td>49575</td>\n",
       "      <td>NaN</td>\n",
       "      <td>100</td>\n",
       "      <td>21</td>\n",
       "    </tr>\n",
       "    <tr>\n",
       "      <th>49640</th>\n",
       "      <td>49641</td>\n",
       "      <td>NaN</td>\n",
       "      <td>100</td>\n",
       "      <td>21</td>\n",
       "    </tr>\n",
       "    <tr>\n",
       "      <th>49663</th>\n",
       "      <td>49664</td>\n",
       "      <td>NaN</td>\n",
       "      <td>100</td>\n",
       "      <td>21</td>\n",
       "    </tr>\n",
       "    <tr>\n",
       "      <th>49668</th>\n",
       "      <td>49669</td>\n",
       "      <td>NaN</td>\n",
       "      <td>100</td>\n",
       "      <td>21</td>\n",
       "    </tr>\n",
       "  </tbody>\n",
       "</table>\n",
       "<p>1258 rows × 4 columns</p>\n",
       "</div>"
      ],
      "text/plain": [
       "       product_id product_name  aisle_id  department_id\n",
       "37             38          NaN       100             21\n",
       "71             72          NaN       100             21\n",
       "109           110          NaN       100             21\n",
       "296           297          NaN       100             21\n",
       "416           417          NaN       100             21\n",
       "...           ...          ...       ...            ...\n",
       "49552       49553          NaN       100             21\n",
       "49574       49575          NaN       100             21\n",
       "49640       49641          NaN       100             21\n",
       "49663       49664          NaN       100             21\n",
       "49668       49669          NaN       100             21\n",
       "\n",
       "[1258 rows x 4 columns]"
      ]
     },
     "execution_count": 296,
     "metadata": {},
     "output_type": "execute_result"
    }
   ],
   "source": [
    "products[products['department_id'] == 21]\n",
    "\n",
    "# Todos os nomes de produtos ausentes estão associados com o departamento de ID 21?"
   ]
  },
  {
   "cell_type": "markdown",
   "id": "qDpdYn1Fht_I",
   "metadata": {
    "id": "qDpdYn1Fht_I"
   },
   "source": [
    "Do total de 1258 valores ausentes no arquivo 'products', podemos identificar que a totalidade está concentrada no deparamento 21."
   ]
  },
  {
   "cell_type": "code",
   "execution_count": 297,
   "id": "325c3464",
   "metadata": {
    "id": "325c3464"
   },
   "outputs": [
    {
     "data": {
      "text/html": [
       "<div>\n",
       "<style scoped>\n",
       "    .dataframe tbody tr th:only-of-type {\n",
       "        vertical-align: middle;\n",
       "    }\n",
       "\n",
       "    .dataframe tbody tr th {\n",
       "        vertical-align: top;\n",
       "    }\n",
       "\n",
       "    .dataframe thead th {\n",
       "        text-align: right;\n",
       "    }\n",
       "</style>\n",
       "<table border=\"1\" class=\"dataframe\">\n",
       "  <thead>\n",
       "    <tr style=\"text-align: right;\">\n",
       "      <th></th>\n",
       "      <th>product_id</th>\n",
       "      <th>product_name</th>\n",
       "      <th>aisle_id</th>\n",
       "      <th>department_id</th>\n",
       "    </tr>\n",
       "  </thead>\n",
       "  <tbody>\n",
       "    <tr>\n",
       "      <th>37</th>\n",
       "      <td>38</td>\n",
       "      <td>NaN</td>\n",
       "      <td>100</td>\n",
       "      <td>21</td>\n",
       "    </tr>\n",
       "    <tr>\n",
       "      <th>71</th>\n",
       "      <td>72</td>\n",
       "      <td>NaN</td>\n",
       "      <td>100</td>\n",
       "      <td>21</td>\n",
       "    </tr>\n",
       "    <tr>\n",
       "      <th>109</th>\n",
       "      <td>110</td>\n",
       "      <td>NaN</td>\n",
       "      <td>100</td>\n",
       "      <td>21</td>\n",
       "    </tr>\n",
       "    <tr>\n",
       "      <th>296</th>\n",
       "      <td>297</td>\n",
       "      <td>NaN</td>\n",
       "      <td>100</td>\n",
       "      <td>21</td>\n",
       "    </tr>\n",
       "    <tr>\n",
       "      <th>416</th>\n",
       "      <td>417</td>\n",
       "      <td>NaN</td>\n",
       "      <td>100</td>\n",
       "      <td>21</td>\n",
       "    </tr>\n",
       "    <tr>\n",
       "      <th>...</th>\n",
       "      <td>...</td>\n",
       "      <td>...</td>\n",
       "      <td>...</td>\n",
       "      <td>...</td>\n",
       "    </tr>\n",
       "    <tr>\n",
       "      <th>49552</th>\n",
       "      <td>49553</td>\n",
       "      <td>NaN</td>\n",
       "      <td>100</td>\n",
       "      <td>21</td>\n",
       "    </tr>\n",
       "    <tr>\n",
       "      <th>49574</th>\n",
       "      <td>49575</td>\n",
       "      <td>NaN</td>\n",
       "      <td>100</td>\n",
       "      <td>21</td>\n",
       "    </tr>\n",
       "    <tr>\n",
       "      <th>49640</th>\n",
       "      <td>49641</td>\n",
       "      <td>NaN</td>\n",
       "      <td>100</td>\n",
       "      <td>21</td>\n",
       "    </tr>\n",
       "    <tr>\n",
       "      <th>49663</th>\n",
       "      <td>49664</td>\n",
       "      <td>NaN</td>\n",
       "      <td>100</td>\n",
       "      <td>21</td>\n",
       "    </tr>\n",
       "    <tr>\n",
       "      <th>49668</th>\n",
       "      <td>49669</td>\n",
       "      <td>NaN</td>\n",
       "      <td>100</td>\n",
       "      <td>21</td>\n",
       "    </tr>\n",
       "  </tbody>\n",
       "</table>\n",
       "<p>1258 rows × 4 columns</p>\n",
       "</div>"
      ],
      "text/plain": [
       "       product_id product_name  aisle_id  department_id\n",
       "37             38          NaN       100             21\n",
       "71             72          NaN       100             21\n",
       "109           110          NaN       100             21\n",
       "296           297          NaN       100             21\n",
       "416           417          NaN       100             21\n",
       "...           ...          ...       ...            ...\n",
       "49552       49553          NaN       100             21\n",
       "49574       49575          NaN       100             21\n",
       "49640       49641          NaN       100             21\n",
       "49663       49664          NaN       100             21\n",
       "49668       49669          NaN       100             21\n",
       "\n",
       "[1258 rows x 4 columns]"
      ]
     },
     "execution_count": 297,
     "metadata": {},
     "output_type": "execute_result"
    }
   ],
   "source": [
    "products[(products['aisle_id'] == 100) & (products['department_id'] == 21)]\n",
    "\n",
    "# Use as tabelas department e aisle para verificar os dados do corredor com ID 100 e do departamento com ID 21."
   ]
  },
  {
   "cell_type": "markdown",
   "id": "nqhSTUPhhvEJ",
   "metadata": {
    "id": "nqhSTUPhhvEJ"
   },
   "source": [
    "Os valores ausentes no arquivo 'products' no total de 1258, estão concentrados no corredor 100 e departamento 21. "
   ]
  },
  {
   "cell_type": "code",
   "execution_count": 298,
   "id": "6b295120",
   "metadata": {
    "id": "6b295120"
   },
   "outputs": [
    {
     "data": {
      "text/plain": [
       "product_id       0\n",
       "product_name     0\n",
       "aisle_id         0\n",
       "department_id    0\n",
       "dtype: int64"
      ]
     },
     "execution_count": 298,
     "metadata": {},
     "output_type": "execute_result"
    }
   ],
   "source": [
    "products['product_name'].fillna('Unknown', inplace=True)\n",
    "products.isna().sum()\n",
    "\n",
    "# Preencha nomes de produtos ausentes com 'Unknown'"
   ]
  },
  {
   "cell_type": "markdown",
   "id": "fc70e5ad",
   "metadata": {
    "id": "fc70e5ad"
   },
   "source": [
    "A função fillna() foi aplicada para substituir os nomes ausentes pela palavra 'Unknown'. "
   ]
  },
  {
   "cell_type": "markdown",
   "id": "7eb45c86",
   "metadata": {
    "id": "7eb45c86"
   },
   "source": [
    "### DataFrame `orders`"
   ]
  },
  {
   "cell_type": "code",
   "execution_count": 299,
   "id": "93e41d96",
   "metadata": {
    "id": "93e41d96"
   },
   "outputs": [
    {
     "data": {
      "text/plain": [
       "order_id                      0\n",
       "user_id                       0\n",
       "order_number                  0\n",
       "order_dow                     0\n",
       "order_hour_of_day             0\n",
       "days_since_prior_order    28817\n",
       "dtype: int64"
      ]
     },
     "execution_count": 299,
     "metadata": {},
     "output_type": "execute_result"
    }
   ],
   "source": [
    "orders.isna().sum()\n",
    "\n",
    "# Encontre os valores ausentes"
   ]
  },
  {
   "cell_type": "code",
   "execution_count": 300,
   "id": "166e5a86",
   "metadata": {
    "id": "166e5a86"
   },
   "outputs": [
    {
     "data": {
      "text/plain": [
       "1    28817\n",
       "Name: order_number, dtype: int64"
      ]
     },
     "execution_count": 300,
     "metadata": {},
     "output_type": "execute_result"
    }
   ],
   "source": [
    "orders[orders['days_since_prior_order'].isna()]['order_number'].value_counts()\n",
    "\n",
    "\n",
    "# Há valores ausentes para os clientes que não estão fazendo o primeiro pedido?"
   ]
  },
  {
   "cell_type": "markdown",
   "id": "4e23d089",
   "metadata": {
    "id": "4e23d089"
   },
   "source": [
    "Há 28817 registros ausentes na coluna 'days_since_prior_order' referentes à valores ausentes para clientes que não estão fazendo o primeiro pedido."
   ]
  },
  {
   "cell_type": "markdown",
   "id": "69dc9ca4",
   "metadata": {
    "id": "69dc9ca4"
   },
   "source": [
    "### DataFrame `order_products`"
   ]
  },
  {
   "cell_type": "code",
   "execution_count": 301,
   "id": "b8240253",
   "metadata": {
    "id": "b8240253"
   },
   "outputs": [
    {
     "data": {
      "text/plain": [
       "order_id               0\n",
       "product_id             0\n",
       "add_to_cart_order    836\n",
       "reordered              0\n",
       "dtype: int64"
      ]
     },
     "execution_count": 301,
     "metadata": {},
     "output_type": "execute_result"
    }
   ],
   "source": [
    "order_products.isna().sum()\n",
    "\n",
    "# Encontre os valores ausentes"
   ]
  },
  {
   "cell_type": "code",
   "execution_count": 302,
   "id": "9a78e5ee",
   "metadata": {
    "id": "9a78e5ee"
   },
   "outputs": [
    {
     "data": {
      "text/plain": [
       "[(1.0, 64.0)]"
      ]
     },
     "execution_count": 302,
     "metadata": {},
     "output_type": "execute_result"
    }
   ],
   "source": [
    "order_products= [\n",
    "    (order_products['add_to_cart_order'].min(), order_products['add_to_cart_order'].max())\n",
    "]\n",
    "order_products\n",
    "\n",
    "# Quais são os valores mínimo e máximo dessa coluna?"
   ]
  },
  {
   "cell_type": "markdown",
   "id": "-Z2Ja215jW78",
   "metadata": {
    "id": "-Z2Ja215jW78"
   },
   "source": [
    "O valor mínimo adicionado ao carrinho foi de 1.0, enquanto que o máximo foi de 64.0."
   ]
  },
  {
   "cell_type": "code",
   "execution_count": 371,
   "id": "ab9d0c2b",
   "metadata": {
    "id": "ab9d0c2b"
   },
   "outputs": [
    {
     "data": {
      "text/plain": [
       "737      2449164\n",
       "9926     1968313\n",
       "14394    2926893\n",
       "16418    1717990\n",
       "30114    1959075\n",
       "Name: order_id, dtype: int64"
      ]
     },
     "execution_count": 371,
     "metadata": {},
     "output_type": "execute_result"
    }
   ],
   "source": [
    "at_least_one_missing_value = order_products[order_products['add_to_cart_order'].isna()]['order_id']\n",
    "at_least_one_missing_value.head()\n",
    "\n",
    "# Salve todos os IDs dos pedidos com pelo menos um valor ausente em 'add_to_cart_order'"
   ]
  },
  {
   "cell_type": "code",
   "execution_count": null,
   "id": "54c31695",
   "metadata": {
    "id": "54c31695"
   },
   "outputs": [],
   "source": [
    "# Todos os pedidos com valores ausentes contêm mais de 64 produtos?\n",
    "# Agrupe os pedidos com dados ausentes por ID de pedido\n",
    "# Conte o número de 'product_id' em cada pedido e verifique o valor mínimo da contagem\n",
    "\n",
    "order_products[order_products['add_to_cart_order'].isna()].groupby('order_id')['product_id'].count().min()\n",
    "  "
   ]
  },
  {
   "cell_type": "markdown",
   "id": "p9V6pddtjglj",
   "metadata": {
    "id": "p9V6pddtjglj"
   },
   "source": [
    "Todos os pedidos com valores ausentes possuem mais que 64 produtos."
   ]
  },
  {
   "cell_type": "code",
   "execution_count": null,
   "id": "7a987d08",
   "metadata": {
    "id": "7a987d08"
   },
   "outputs": [],
   "source": [
    "order_products['add_to_cart_order'].fillna(999, inplace=True)\n",
    "order_products.isna().sum()\n",
    "order_products['add_to_cart_order'] = order_products['add_to_cart_order'].astype(int)\n",
    "order_products.info()\n",
    "\n",
    "# Substitua valores ausentes na coluna 'add_to_cart_order' por 999 e converta a coluna para o tipo integer"
   ]
  },
  {
   "cell_type": "markdown",
   "id": "turkish-kidney",
   "metadata": {
    "id": "turkish-kidney"
   },
   "source": [
    "# [A] Fácil (é necessário concluir tudo para passar)\n",
    "\n",
    "1.\tVerifique se os valores nas colunas `'order_hour_of_day'` e `'order_dow'` na tabela `orders` fazem sentido (ou seja, os valores da coluna  `'order_hour_of_day'` variam de 0 a 23 e os da `'order_dow'` variam de 0 a 6).\n",
    "2.\tCrie um gráfico que mostre quantas pessoas fazem pedidos a cada hora do dia.\n",
    "3.\tCrie um gráfico que mostre em que dia da semana as pessoas fazem compras.\n",
    "4.\tCrie um gráfico que mostre quanto tempo as pessoas esperam até fazer seu próximo pedido e comente sobre os valores mínimo e máximo.\n"
   ]
  },
  {
   "cell_type": "markdown",
   "id": "short-capability",
   "metadata": {
    "id": "short-capability"
   },
   "source": [
    "### [A1] Verifique se os valores fazem sentido"
   ]
  },
  {
   "cell_type": "code",
   "execution_count": 372,
   "id": "growing-fruit",
   "metadata": {
    "id": "growing-fruit"
   },
   "outputs": [
    {
     "name": "stdout",
     "output_type": "stream",
     "text": [
      "[0, 1, 2, 3, 4, 5, 6]\n"
     ]
    }
   ],
   "source": [
    "print(sorted(orders['order_dow'].unique()))"
   ]
  },
  {
   "cell_type": "code",
   "execution_count": 373,
   "id": "accessory-malaysia",
   "metadata": {
    "id": "accessory-malaysia"
   },
   "outputs": [
    {
     "name": "stdout",
     "output_type": "stream",
     "text": [
      "[0, 1, 2, 3, 4, 5, 6, 7, 8, 9, 10, 11, 12, 13, 14, 15, 16, 17, 18, 19, 20, 21, 22, 23]\n"
     ]
    }
   ],
   "source": [
    "print(sorted(orders['order_hour_of_day'].unique()))"
   ]
  },
  {
   "cell_type": "markdown",
   "id": "hmR2GNQ6lCsX",
   "metadata": {
    "id": "hmR2GNQ6lCsX"
   },
   "source": [
    "Simm, as horas estão dentro do limite aceitável dentro das 24 horas. "
   ]
  },
  {
   "cell_type": "markdown",
   "id": "a6743a70",
   "metadata": {
    "id": "a6743a70"
   },
   "source": [
    "### [A2] Quantas pessoas fazem pedidos a cada hora do dia?"
   ]
  },
  {
   "cell_type": "code",
   "execution_count": 378,
   "id": "a36cca27",
   "metadata": {
    "id": "a36cca27"
   },
   "outputs": [
    {
     "data": {
      "text/plain": [
       "<AxesSubplot:xlabel='order_hour_of_day'>"
      ]
     },
     "execution_count": 378,
     "metadata": {},
     "output_type": "execute_result"
    },
    {
     "data": {
      "image/png": "[encoded data removed]",
      "text/plain": [
       "<Figure size 640x480 with 1 Axes>"
      ]
     },
     "metadata": {},
     "output_type": "display_data"
    }
   ],
   "source": [
    "orders.groupby('order_hour_of_day')['user_id'].count().plot(kind='bar')"
   ]
  },
  {
   "cell_type": "markdown",
   "id": "11270eed",
   "metadata": {
    "id": "11270eed"
   },
   "source": [
    "Podemos perceber pela distribuição dos horários que a maior parte das pessoas realizam suas compras entre o período de 9 às 17 horas. "
   ]
  },
  {
   "cell_type": "markdown",
   "id": "documented-command",
   "metadata": {
    "id": "documented-command"
   },
   "source": [
    "### [A3] Em que dia da semana as pessoas compram produtos alimentícios?"
   ]
  },
  {
   "cell_type": "code",
   "execution_count": 377,
   "id": "chief-digit",
   "metadata": {
    "id": "chief-digit"
   },
   "outputs": [
    {
     "data": {
      "text/plain": [
       "<AxesSubplot:xlabel='order_dow'>"
      ]
     },
     "execution_count": 377,
     "metadata": {},
     "output_type": "execute_result"
    },
    {
     "data": {
      "image/png": "[encoded data removed]",
      "text/plain": [
       "<Figure size 640x480 with 1 Axes>"
      ]
     },
     "metadata": {},
     "output_type": "display_data"
    }
   ],
   "source": [
    "orders.groupby('order_dow')['order_id'].count().plot(kind='bar')"
   ]
  },
  {
   "cell_type": "markdown",
   "id": "dominant-lightning",
   "metadata": {
    "id": "dominant-lightning"
   },
   "source": [
    "O dia que as pessoas mais compram é aos domingos, seguido de perto pela segunda-feira. "
   ]
  },
  {
   "cell_type": "markdown",
   "id": "cutting-concert",
   "metadata": {
    "id": "cutting-concert"
   },
   "source": [
    "### [A4] Quanto tempo as pessoas esperam até fazer outro pedido?"
   ]
  },
  {
   "cell_type": "markdown",
   "id": "discrete-vertex",
   "metadata": {
    "id": "discrete-vertex"
   },
   "source": [
    "A média de tempo é de 11 dias."
   ]
  },
  {
   "cell_type": "code",
   "execution_count": 376,
   "id": "gMOIimGd5VNb",
   "metadata": {
    "id": "gMOIimGd5VNb",
    "scrolled": true
   },
   "outputs": [
    {
     "data": {
      "text/plain": [
       "<AxesSubplot:ylabel='Frequency'>"
      ]
     },
     "execution_count": 376,
     "metadata": {},
     "output_type": "execute_result"
    },
    {
     "data": {
      "image/png": "[encoded data removed]",
      "text/plain": [
       "<Figure size 640x480 with 1 Axes>"
      ]
     },
     "metadata": {},
     "output_type": "display_data"
    }
   ],
   "source": [
    "orders['days_since_prior_order'].plot(kind='hist')"
   ]
  },
  {
   "cell_type": "markdown",
   "id": "tight-staff",
   "metadata": {
    "id": "tight-staff"
   },
   "source": [
    "# [B] Médio (é necessário concluir tudo para passar)\n",
    "\n",
    "1.\tHá alguma diferença nas distribuições de `'order_hour_of_day'` nas quartas e sábados? Construa gráficos de barras para ambos os dias no mesmo gráfico e descreva as diferenças que você notou.\n",
    "2.\tConstrua um gráfico de distribuição para o número de pedidos que os clientes fazem (ou seja, quantos clientes fizeram apenas 1 pedido, quantos fizeram apenas 2, quantos apenas 3, etc.)\n",
    "3.\tQuais são os 20 produtos comprados com mais frequência? Exiba os IDs e nomes.\n"
   ]
  },
  {
   "cell_type": "markdown",
   "id": "packed-classic",
   "metadata": {
    "id": "packed-classic"
   },
   "source": [
    "### [B1] Diferenças nas quartas e sábados em `'order_hour_of_day'`. Crie gráficos de barras para ambos os dias e descreva as diferenças."
   ]
  },
  {
   "cell_type": "code",
   "execution_count": 375,
   "id": "d89b8403",
   "metadata": {
    "id": "d89b8403"
   },
   "outputs": [
    {
     "data": {
      "image/png": "[encoded data removed]",
      "text/plain": [
       "<Figure size 1400x700 with 1 Axes>"
      ]
     },
     "metadata": {},
     "output_type": "display_data"
    }
   ],
   "source": [
    "import pandas as pd\n",
    "import matplotlib.pyplot as plt\n",
    "\n",
    "orders_wednesday = orders[orders['order_dow'] == 3]\n",
    "orders_saturday = orders[orders['order_dow'] == 6]\n",
    "\n",
    "hourly_distribution_wednesday = orders_wednesday['order_hour_of_day'].value_counts().sort_index()\n",
    "hourly_distribution_saturday = orders_saturday['order_hour_of_day'].value_counts().sort_index()\n",
    "\n",
    "plt.figure(figsize=(14, 7))\n",
    "plt.bar(hourly_distribution_wednesday.index - 0.2, hourly_distribution_wednesday.values, width=0.4, label='Quarta-feira', color='blue', align='center')\n",
    "plt.bar(hourly_distribution_saturday.index + 0.2, hourly_distribution_saturday.values, width=0.4, label='Sábado', color='orange', align='center')\n",
    "plt.xlabel('Hora do Dia')\n",
    "plt.ylabel('Número de Pedidos')\n",
    "plt.title('Distribuição de Pedidos por Hora do Dia: Quartas vs Sábados')\n",
    "plt.xticks(range(24))\n",
    "plt.legend()\n",
    "plt.show()\n",
    "# Mostrar todas as horas do dia no eixo x"
   ]
  },
  {
   "cell_type": "markdown",
   "id": "charitable-congo",
   "metadata": {
    "id": "charitable-congo"
   },
   "source": [
    "Em geral, as compras de sábado são maiores em todos os horários, exceto entre 9 e 10 da manhã, com pequena diferença."
   ]
  },
  {
   "cell_type": "markdown",
   "id": "e3891143",
   "metadata": {
    "id": "e3891143"
   },
   "source": [
    "### [B2] Qual é a distribuição do número de pedidos por cliente?"
   ]
  },
  {
   "cell_type": "code",
   "execution_count": 374,
   "id": "d8c26c23",
   "metadata": {
    "id": "d8c26c23"
   },
   "outputs": [
    {
     "data": {
      "text/plain": [
       "<AxesSubplot:ylabel='Frequency'>"
      ]
     },
     "execution_count": 374,
     "metadata": {},
     "output_type": "execute_result"
    },
    {
     "data": {
      "image/png": "[encoded data removed]",
      "text/plain": [
       "<Figure size 640x480 with 1 Axes>"
      ]
     },
     "metadata": {},
     "output_type": "display_data"
    }
   ],
   "source": [
    "orders.groupby(['user_id'])['order_id'].count().plot(kind='hist')\n"
   ]
  },
  {
   "cell_type": "markdown",
   "id": "d2eff7d5",
   "metadata": {
    "id": "d2eff7d5"
   },
   "source": [
    "A maioria dos clientes realizam entre 1 e 3 pedidos."
   ]
  },
  {
   "cell_type": "markdown",
   "id": "54a0319c",
   "metadata": {
    "id": "54a0319c"
   },
   "source": [
    "### [B3] Quais são os 20 produtos mais populares? Exiba os IDs e nomes."
   ]
  },
  {
   "cell_type": "code",
   "execution_count": 308,
   "id": "exterior-arizona",
   "metadata": {
    "id": "exterior-arizona",
    "scrolled": true
   },
   "outputs": [
    {
     "data": {
      "text/html": [
       "<div>\n",
       "<style scoped>\n",
       "    .dataframe tbody tr th:only-of-type {\n",
       "        vertical-align: middle;\n",
       "    }\n",
       "\n",
       "    .dataframe tbody tr th {\n",
       "        vertical-align: top;\n",
       "    }\n",
       "\n",
       "    .dataframe thead th {\n",
       "        text-align: right;\n",
       "    }\n",
       "</style>\n",
       "<table border=\"1\" class=\"dataframe\">\n",
       "  <thead>\n",
       "    <tr style=\"text-align: right;\">\n",
       "      <th></th>\n",
       "      <th>order_id</th>\n",
       "      <th>product_id</th>\n",
       "      <th>add_to_cart_order</th>\n",
       "      <th>reordered</th>\n",
       "      <th>product_name</th>\n",
       "      <th>aisle_id</th>\n",
       "      <th>department_id</th>\n",
       "    </tr>\n",
       "  </thead>\n",
       "  <tbody>\n",
       "    <tr>\n",
       "      <th>0</th>\n",
       "      <td>2141543</td>\n",
       "      <td>11440</td>\n",
       "      <td>17.0</td>\n",
       "      <td>0</td>\n",
       "      <td>Chicken Breast Tenders Breaded</td>\n",
       "      <td>129</td>\n",
       "      <td>1</td>\n",
       "    </tr>\n",
       "    <tr>\n",
       "      <th>1</th>\n",
       "      <td>147172</td>\n",
       "      <td>11440</td>\n",
       "      <td>7.0</td>\n",
       "      <td>1</td>\n",
       "      <td>Chicken Breast Tenders Breaded</td>\n",
       "      <td>129</td>\n",
       "      <td>1</td>\n",
       "    </tr>\n",
       "    <tr>\n",
       "      <th>2</th>\n",
       "      <td>3341719</td>\n",
       "      <td>11440</td>\n",
       "      <td>4.0</td>\n",
       "      <td>1</td>\n",
       "      <td>Chicken Breast Tenders Breaded</td>\n",
       "      <td>129</td>\n",
       "      <td>1</td>\n",
       "    </tr>\n",
       "    <tr>\n",
       "      <th>3</th>\n",
       "      <td>1938779</td>\n",
       "      <td>11440</td>\n",
       "      <td>8.0</td>\n",
       "      <td>1</td>\n",
       "      <td>Chicken Breast Tenders Breaded</td>\n",
       "      <td>129</td>\n",
       "      <td>1</td>\n",
       "    </tr>\n",
       "    <tr>\n",
       "      <th>4</th>\n",
       "      <td>1728338</td>\n",
       "      <td>11440</td>\n",
       "      <td>23.0</td>\n",
       "      <td>0</td>\n",
       "      <td>Chicken Breast Tenders Breaded</td>\n",
       "      <td>129</td>\n",
       "      <td>1</td>\n",
       "    </tr>\n",
       "    <tr>\n",
       "      <th>...</th>\n",
       "      <td>...</td>\n",
       "      <td>...</td>\n",
       "      <td>...</td>\n",
       "      <td>...</td>\n",
       "      <td>...</td>\n",
       "      <td>...</td>\n",
       "      <td>...</td>\n",
       "    </tr>\n",
       "    <tr>\n",
       "      <th>4545002</th>\n",
       "      <td>267402</td>\n",
       "      <td>45226</td>\n",
       "      <td>14.0</td>\n",
       "      <td>0</td>\n",
       "      <td>Sweet Teriyaki Chicken Oven Sauce</td>\n",
       "      <td>5</td>\n",
       "      <td>13</td>\n",
       "    </tr>\n",
       "    <tr>\n",
       "      <th>4545003</th>\n",
       "      <td>2621676</td>\n",
       "      <td>25201</td>\n",
       "      <td>10.0</td>\n",
       "      <td>0</td>\n",
       "      <td>Crisp Waters Candle Scents</td>\n",
       "      <td>101</td>\n",
       "      <td>17</td>\n",
       "    </tr>\n",
       "    <tr>\n",
       "      <th>4545004</th>\n",
       "      <td>937623</td>\n",
       "      <td>49153</td>\n",
       "      <td>2.0</td>\n",
       "      <td>0</td>\n",
       "      <td>Shine Collection Brillance Shampoo</td>\n",
       "      <td>22</td>\n",
       "      <td>11</td>\n",
       "    </tr>\n",
       "    <tr>\n",
       "      <th>4545005</th>\n",
       "      <td>532895</td>\n",
       "      <td>8182</td>\n",
       "      <td>1.0</td>\n",
       "      <td>0</td>\n",
       "      <td>Total Mint Stripe Gel Toothpaste</td>\n",
       "      <td>20</td>\n",
       "      <td>11</td>\n",
       "    </tr>\n",
       "    <tr>\n",
       "      <th>4545006</th>\n",
       "      <td>3132243</td>\n",
       "      <td>40024</td>\n",
       "      <td>1.0</td>\n",
       "      <td>0</td>\n",
       "      <td>Egg Replacer Powder</td>\n",
       "      <td>17</td>\n",
       "      <td>13</td>\n",
       "    </tr>\n",
       "  </tbody>\n",
       "</table>\n",
       "<p>4545007 rows × 7 columns</p>\n",
       "</div>"
      ],
      "text/plain": [
       "         order_id  product_id  add_to_cart_order  reordered  \\\n",
       "0         2141543       11440               17.0          0   \n",
       "1          147172       11440                7.0          1   \n",
       "2         3341719       11440                4.0          1   \n",
       "3         1938779       11440                8.0          1   \n",
       "4         1728338       11440               23.0          0   \n",
       "...           ...         ...                ...        ...   \n",
       "4545002    267402       45226               14.0          0   \n",
       "4545003   2621676       25201               10.0          0   \n",
       "4545004    937623       49153                2.0          0   \n",
       "4545005    532895        8182                1.0          0   \n",
       "4545006   3132243       40024                1.0          0   \n",
       "\n",
       "                               product_name  aisle_id  department_id  \n",
       "0            Chicken Breast Tenders Breaded       129              1  \n",
       "1            Chicken Breast Tenders Breaded       129              1  \n",
       "2            Chicken Breast Tenders Breaded       129              1  \n",
       "3            Chicken Breast Tenders Breaded       129              1  \n",
       "4            Chicken Breast Tenders Breaded       129              1  \n",
       "...                                     ...       ...            ...  \n",
       "4545002   Sweet Teriyaki Chicken Oven Sauce         5             13  \n",
       "4545003          Crisp Waters Candle Scents       101             17  \n",
       "4545004  Shine Collection Brillance Shampoo        22             11  \n",
       "4545005    Total Mint Stripe Gel Toothpaste        20             11  \n",
       "4545006                 Egg Replacer Powder        17             13  \n",
       "\n",
       "[4545007 rows x 7 columns]"
      ]
     },
     "execution_count": 308,
     "metadata": {},
     "output_type": "execute_result"
    }
   ],
   "source": [
    "df_most_populars = order_products.merge(products, on='product_id')\n",
    "df_most_populars"
   ]
  },
  {
   "cell_type": "code",
   "execution_count": 327,
   "id": "universal-facial",
   "metadata": {
    "id": "universal-facial"
   },
   "outputs": [
    {
     "data": {
      "text/plain": [
       "product_id  product_name            \n",
       "24852       Banana                      66050\n",
       "13176       Bag of Organic Bananas      53297\n",
       "21137       Organic Strawberries        37039\n",
       "21903       Organic Baby Spinach        33971\n",
       "47209       Organic Hass Avocado        29773\n",
       "47766       Organic Avocado             24689\n",
       "47626       Large Lemon                 21495\n",
       "16797       Strawberries                20018\n",
       "26209       Limes                       19690\n",
       "27845       Organic Whole Milk          19600\n",
       "27966       Organic Raspberries         19197\n",
       "22935       Organic Yellow Onion        15898\n",
       "24964       Organic Garlic              15292\n",
       "45007       Organic Zucchini            14584\n",
       "39275       Organic Blueberries         13879\n",
       "49683       Cucumber Kirby              13675\n",
       "28204       Organic Fuji Apple          12544\n",
       "5876        Organic Lemon               12232\n",
       "8277        Apple Honeycrisp Organic    11993\n",
       "40706       Organic Grape Tomatoes      11781\n",
       "Name: order_id, dtype: int64"
      ]
     },
     "execution_count": 327,
     "metadata": {},
     "output_type": "execute_result"
    }
   ],
   "source": [
    "df_most_populars.groupby(['product_id', 'product_name'])['order_id'].count().sort_values(ascending=False).head(20)                                                                                                              "
   ]
  },
  {
   "cell_type": "markdown",
   "id": "7df00f47",
   "metadata": {
    "id": "7df00f47"
   },
   "source": [
    "Para investigar os produtos mais populares, primeiramente foi necessário juntar duas tabelas com a chave de produtos. Posteriormente, os dados foram agrupados por nome e id do produto, trazendo os 20 mais populares em ordem alfabética, sendo Banana, código 24852 a mais popular."
   ]
  },
  {
   "cell_type": "markdown",
   "id": "gross-theme",
   "metadata": {
    "id": "gross-theme"
   },
   "source": [
    "# [C] Difícil (é necessário concluir pelo menos duas perguntas para passar)\n",
    "\n",
    "1.\tQuantos itens as pessoas normalmente compram em um pedido? Como fica a distribuição?\n",
    "2.\tQuais são os 20 principais itens incluídos mais frequentemente em pedidos repetidos? Exiba os IDs e nomes.\n",
    "3.\tPara cada produto, qual parcela de seus pedidos são repetidos? Crie uma tabela com colunas de ID e nome do produto e a proporção de pedidos repetidos.\n",
    "4.\tPara cada cliente, qual proporção de todos os seus pedidos são repetidos?\n",
    "5.\tQuais são os 20 principais itens que as pessoas colocam nos carrinhos antes de todos os outros? Exiba o ID do produto, nome e o número de vezes que ele foi o primeiro a ser adicionado a um carrinho.\n"
   ]
  },
  {
   "cell_type": "markdown",
   "id": "romantic-deposit",
   "metadata": {
    "id": "romantic-deposit"
   },
   "source": [
    "### [C1] Quantos itens as pessoas normalmente compram em um pedido? Como fica a distribuição?"
   ]
  },
  {
   "cell_type": "code",
   "execution_count": 370,
   "id": "virtual-punch",
   "metadata": {
    "id": "virtual-punch"
   },
   "outputs": [
    {
     "data": {
      "text/plain": [
       "<Figure size 1300x900 with 0 Axes>"
      ]
     },
     "execution_count": 370,
     "metadata": {},
     "output_type": "execute_result"
    },
    {
     "data": {
      "image/png": "[encoded data removed]",
      "text/plain": [
       "<Figure size 640x480 with 1 Axes>"
      ]
     },
     "metadata": {},
     "output_type": "display_data"
    },
    {
     "data": {
      "text/plain": [
       "<Figure size 1300x900 with 0 Axes>"
      ]
     },
     "metadata": {},
     "output_type": "display_data"
    }
   ],
   "source": [
    "buy_per_order=order_products.groupby(['order_id'])['product_id'].count()\n",
    "hist = buy_per_order.value_counts().sort_index()\n",
    "hist[hist.index < 50].plot(kind='bar')\n",
    "plt.figure(figsize=(13, 9))"
   ]
  },
  {
   "cell_type": "markdown",
   "id": "designed-mortality",
   "metadata": {
    "id": "designed-mortality"
   },
   "source": [
    "A maioria das pessoas compram em média cinco produtos por pedido."
   ]
  },
  {
   "cell_type": "markdown",
   "id": "5e6b5537",
   "metadata": {
    "id": "5e6b5537"
   },
   "source": [
    "### [C2] Quais são os 20 principais itens incluídos com mais frequência em pedidos repetidos? Exiba os IDs e nomes."
   ]
  },
  {
   "cell_type": "code",
   "execution_count": 329,
   "id": "9374e55a",
   "metadata": {
    "id": "9374e55a"
   },
   "outputs": [
    {
     "data": {
      "text/html": [
       "<div>\n",
       "<style scoped>\n",
       "    .dataframe tbody tr th:only-of-type {\n",
       "        vertical-align: middle;\n",
       "    }\n",
       "\n",
       "    .dataframe tbody tr th {\n",
       "        vertical-align: top;\n",
       "    }\n",
       "\n",
       "    .dataframe thead th {\n",
       "        text-align: right;\n",
       "    }\n",
       "</style>\n",
       "<table border=\"1\" class=\"dataframe\">\n",
       "  <thead>\n",
       "    <tr style=\"text-align: right;\">\n",
       "      <th></th>\n",
       "      <th>product_id</th>\n",
       "      <th>product_name</th>\n",
       "      <th>order_id</th>\n",
       "    </tr>\n",
       "  </thead>\n",
       "  <tbody>\n",
       "    <tr>\n",
       "      <th>0</th>\n",
       "      <td>24852</td>\n",
       "      <td>Banana</td>\n",
       "      <td>55763</td>\n",
       "    </tr>\n",
       "    <tr>\n",
       "      <th>1</th>\n",
       "      <td>13176</td>\n",
       "      <td>Bag of Organic Bananas</td>\n",
       "      <td>44450</td>\n",
       "    </tr>\n",
       "    <tr>\n",
       "      <th>2</th>\n",
       "      <td>21137</td>\n",
       "      <td>Organic Strawberries</td>\n",
       "      <td>28639</td>\n",
       "    </tr>\n",
       "    <tr>\n",
       "      <th>3</th>\n",
       "      <td>21903</td>\n",
       "      <td>Organic Baby Spinach</td>\n",
       "      <td>26233</td>\n",
       "    </tr>\n",
       "    <tr>\n",
       "      <th>4</th>\n",
       "      <td>47209</td>\n",
       "      <td>Organic Hass Avocado</td>\n",
       "      <td>23629</td>\n",
       "    </tr>\n",
       "    <tr>\n",
       "      <th>5</th>\n",
       "      <td>47766</td>\n",
       "      <td>Organic Avocado</td>\n",
       "      <td>18743</td>\n",
       "    </tr>\n",
       "    <tr>\n",
       "      <th>6</th>\n",
       "      <td>27845</td>\n",
       "      <td>Organic Whole Milk</td>\n",
       "      <td>16251</td>\n",
       "    </tr>\n",
       "    <tr>\n",
       "      <th>7</th>\n",
       "      <td>47626</td>\n",
       "      <td>Large Lemon</td>\n",
       "      <td>15044</td>\n",
       "    </tr>\n",
       "    <tr>\n",
       "      <th>8</th>\n",
       "      <td>27966</td>\n",
       "      <td>Organic Raspberries</td>\n",
       "      <td>14748</td>\n",
       "    </tr>\n",
       "    <tr>\n",
       "      <th>9</th>\n",
       "      <td>16797</td>\n",
       "      <td>Strawberries</td>\n",
       "      <td>13945</td>\n",
       "    </tr>\n",
       "    <tr>\n",
       "      <th>10</th>\n",
       "      <td>26209</td>\n",
       "      <td>Limes</td>\n",
       "      <td>13327</td>\n",
       "    </tr>\n",
       "    <tr>\n",
       "      <th>11</th>\n",
       "      <td>22935</td>\n",
       "      <td>Organic Yellow Onion</td>\n",
       "      <td>11145</td>\n",
       "    </tr>\n",
       "    <tr>\n",
       "      <th>12</th>\n",
       "      <td>24964</td>\n",
       "      <td>Organic Garlic</td>\n",
       "      <td>10411</td>\n",
       "    </tr>\n",
       "    <tr>\n",
       "      <th>13</th>\n",
       "      <td>45007</td>\n",
       "      <td>Organic Zucchini</td>\n",
       "      <td>10076</td>\n",
       "    </tr>\n",
       "    <tr>\n",
       "      <th>14</th>\n",
       "      <td>49683</td>\n",
       "      <td>Cucumber Kirby</td>\n",
       "      <td>9538</td>\n",
       "    </tr>\n",
       "    <tr>\n",
       "      <th>15</th>\n",
       "      <td>28204</td>\n",
       "      <td>Organic Fuji Apple</td>\n",
       "      <td>8989</td>\n",
       "    </tr>\n",
       "    <tr>\n",
       "      <th>16</th>\n",
       "      <td>8277</td>\n",
       "      <td>Apple Honeycrisp Organic</td>\n",
       "      <td>8836</td>\n",
       "    </tr>\n",
       "    <tr>\n",
       "      <th>17</th>\n",
       "      <td>39275</td>\n",
       "      <td>Organic Blueberries</td>\n",
       "      <td>8799</td>\n",
       "    </tr>\n",
       "    <tr>\n",
       "      <th>18</th>\n",
       "      <td>5876</td>\n",
       "      <td>Organic Lemon</td>\n",
       "      <td>8412</td>\n",
       "    </tr>\n",
       "    <tr>\n",
       "      <th>19</th>\n",
       "      <td>49235</td>\n",
       "      <td>Organic Half &amp; Half</td>\n",
       "      <td>8389</td>\n",
       "    </tr>\n",
       "  </tbody>\n",
       "</table>\n",
       "</div>"
      ],
      "text/plain": [
       "    product_id              product_name  order_id\n",
       "0        24852                    Banana     55763\n",
       "1        13176    Bag of Organic Bananas     44450\n",
       "2        21137      Organic Strawberries     28639\n",
       "3        21903      Organic Baby Spinach     26233\n",
       "4        47209      Organic Hass Avocado     23629\n",
       "5        47766           Organic Avocado     18743\n",
       "6        27845        Organic Whole Milk     16251\n",
       "7        47626               Large Lemon     15044\n",
       "8        27966       Organic Raspberries     14748\n",
       "9        16797              Strawberries     13945\n",
       "10       26209                     Limes     13327\n",
       "11       22935      Organic Yellow Onion     11145\n",
       "12       24964            Organic Garlic     10411\n",
       "13       45007          Organic Zucchini     10076\n",
       "14       49683            Cucumber Kirby      9538\n",
       "15       28204        Organic Fuji Apple      8989\n",
       "16        8277  Apple Honeycrisp Organic      8836\n",
       "17       39275       Organic Blueberries      8799\n",
       "18        5876             Organic Lemon      8412\n",
       "19       49235       Organic Half & Half      8389"
      ]
     },
     "execution_count": 329,
     "metadata": {},
     "output_type": "execute_result"
    }
   ],
   "source": [
    "df_most_populars = order_products[order_products['reordered']==1].merge(products, on='product_id')\n",
    "df_most_populars.groupby(['product_id', 'product_name'])['order_id'].count().sort_values(ascending=False).head(20).reset_index()"
   ]
  }
 ],
 "metadata": {
  "ExecuteTimeLog": [
   {
    "duration": 13,
    "start_time": "2024-08-21T14:23:11.851Z"
   },
   {
    "duration": 810,
    "start_time": "2024-08-21T14:23:26.760Z"
   },
   {
    "duration": 8,
    "start_time": "2024-08-21T14:27:21.992Z"
   },
   {
    "duration": 5,
    "start_time": "2024-08-21T14:30:23.661Z"
   },
   {
    "duration": 5,
    "start_time": "2024-08-21T14:30:45.454Z"
   },
   {
    "duration": 4,
    "start_time": "2024-08-21T14:30:54.313Z"
   },
   {
    "duration": 742,
    "start_time": "2024-08-21T14:46:14.310Z"
   },
   {
    "duration": 121,
    "start_time": "2024-08-21T14:46:52.193Z"
   },
   {
    "duration": 133,
    "start_time": "2024-08-21T14:47:47.486Z"
   },
   {
    "duration": 117,
    "start_time": "2024-08-21T14:48:37.182Z"
   },
   {
    "duration": 472,
    "start_time": "2024-08-21T14:48:48.216Z"
   },
   {
    "duration": 417,
    "start_time": "2024-08-21T14:49:28.626Z"
   },
   {
    "duration": 199,
    "start_time": "2024-08-21T14:49:59.958Z"
   },
   {
    "duration": 190,
    "start_time": "2024-08-21T14:50:03.546Z"
   },
   {
    "duration": 73,
    "start_time": "2024-08-21T14:50:49.053Z"
   },
   {
    "duration": 11,
    "start_time": "2024-08-21T14:51:22.647Z"
   },
   {
    "duration": 48,
    "start_time": "2024-08-21T14:51:42.742Z"
   },
   {
    "duration": 8,
    "start_time": "2024-08-21T14:52:23.939Z"
   },
   {
    "duration": 10,
    "start_time": "2024-08-21T14:52:58.714Z"
   },
   {
    "duration": 1356,
    "start_time": "2024-08-21T14:53:58.404Z"
   },
   {
    "duration": 8,
    "start_time": "2024-08-21T14:54:22.895Z"
   },
   {
    "duration": 1230,
    "start_time": "2024-08-21T14:54:53.176Z"
   },
   {
    "duration": 22,
    "start_time": "2024-08-21T14:57:22.869Z"
   },
   {
    "duration": 28,
    "start_time": "2024-08-21T14:57:38.745Z"
   },
   {
    "duration": 22,
    "start_time": "2024-08-21T16:22:07.382Z"
   },
   {
    "duration": 378,
    "start_time": "2024-08-21T16:22:17.297Z"
   },
   {
    "duration": 5,
    "start_time": "2024-08-21T16:22:36.175Z"
   },
   {
    "duration": 158,
    "start_time": "2024-08-21T16:22:56.668Z"
   },
   {
    "duration": 183,
    "start_time": "2024-08-21T16:43:01.785Z"
   },
   {
    "duration": 22,
    "start_time": "2024-08-21T16:44:00.943Z"
   },
   {
    "duration": 23,
    "start_time": "2024-08-21T16:44:11.372Z"
   },
   {
    "duration": 172,
    "start_time": "2024-08-21T16:44:27.829Z"
   },
   {
    "duration": 165,
    "start_time": "2024-08-21T16:46:30.178Z"
   },
   {
    "duration": 157,
    "start_time": "2024-08-21T16:47:20.836Z"
   },
   {
    "duration": 158,
    "start_time": "2024-08-21T16:47:42.233Z"
   },
   {
    "duration": 26,
    "start_time": "2024-08-21T16:50:29.448Z"
   },
   {
    "duration": 20,
    "start_time": "2024-08-21T16:50:33.332Z"
   },
   {
    "duration": 180,
    "start_time": "2024-08-21T16:50:45.094Z"
   },
   {
    "duration": 22,
    "start_time": "2024-08-21T16:51:00.380Z"
   },
   {
    "duration": 12,
    "start_time": "2024-08-21T17:05:55.544Z"
   },
   {
    "duration": 12,
    "start_time": "2024-08-21T17:08:00.652Z"
   },
   {
    "duration": 28,
    "start_time": "2024-08-21T17:13:44.656Z"
   },
   {
    "duration": 58,
    "start_time": "2024-08-21T17:14:58.807Z"
   },
   {
    "duration": 36,
    "start_time": "2024-08-21T17:17:53.698Z"
   },
   {
    "duration": 8,
    "start_time": "2024-08-21T17:18:31.385Z"
   },
   {
    "duration": 12,
    "start_time": "2024-08-21T17:21:03.525Z"
   },
   {
    "duration": 9,
    "start_time": "2024-08-21T17:21:51.540Z"
   },
   {
    "duration": 7,
    "start_time": "2024-08-21T17:23:06.395Z"
   },
   {
    "duration": 10,
    "start_time": "2024-08-21T17:23:35.144Z"
   },
   {
    "duration": 1301,
    "start_time": "2024-08-21T17:24:33.667Z"
   },
   {
    "duration": 1334,
    "start_time": "2024-08-21T17:24:57.209Z"
   },
   {
    "duration": 37,
    "start_time": "2024-08-21T17:35:16.074Z"
   },
   {
    "duration": 30,
    "start_time": "2024-08-21T17:35:29.885Z"
   },
   {
    "duration": 11,
    "start_time": "2024-08-21T17:35:55.721Z"
   },
   {
    "duration": 28,
    "start_time": "2024-08-21T17:36:28.632Z"
   },
   {
    "duration": 11,
    "start_time": "2024-08-21T17:40:01.868Z"
   },
   {
    "duration": 15,
    "start_time": "2024-08-21T17:46:05.543Z"
   },
   {
    "duration": 37,
    "start_time": "2024-08-21T18:01:26.800Z"
   },
   {
    "duration": 28,
    "start_time": "2024-08-21T18:01:47.397Z"
   },
   {
    "duration": 20,
    "start_time": "2024-08-21T21:29:21.622Z"
   },
   {
    "duration": 17,
    "start_time": "2024-08-21T21:43:56.719Z"
   },
   {
    "duration": 20,
    "start_time": "2024-08-21T21:44:55.772Z"
   },
   {
    "duration": 5,
    "start_time": "2024-08-21T21:45:41.854Z"
   },
   {
    "duration": 18,
    "start_time": "2024-08-21T21:46:46.950Z"
   },
   {
    "duration": 11,
    "start_time": "2024-08-21T21:53:37.979Z"
   },
   {
    "duration": 13,
    "start_time": "2024-08-21T22:16:21.100Z"
   },
   {
    "duration": 13,
    "start_time": "2024-08-21T22:21:09.584Z"
   },
   {
    "duration": 50,
    "start_time": "2024-08-21T22:26:18.040Z"
   },
   {
    "duration": 51,
    "start_time": "2024-08-21T22:32:33.354Z"
   },
   {
    "duration": 24,
    "start_time": "2024-08-21T22:42:40.323Z"
   },
   {
    "duration": 26,
    "start_time": "2024-08-21T22:44:09.852Z"
   },
   {
    "duration": 22,
    "start_time": "2024-08-21T22:44:39.494Z"
   },
   {
    "duration": 23,
    "start_time": "2024-08-21T22:44:43.212Z"
   },
   {
    "duration": 23,
    "start_time": "2024-08-21T22:46:01.594Z"
   },
   {
    "duration": 26,
    "start_time": "2024-08-21T22:50:20.176Z"
   },
   {
    "duration": 90,
    "start_time": "2024-08-21T22:52:52.602Z"
   },
   {
    "duration": 22,
    "start_time": "2024-08-21T22:59:03.698Z"
   },
   {
    "duration": 23,
    "start_time": "2024-08-21T23:02:25.849Z"
   },
   {
    "duration": 22,
    "start_time": "2024-08-21T23:04:02.723Z"
   },
   {
    "duration": 15,
    "start_time": "2024-08-21T23:39:37.115Z"
   },
   {
    "duration": 10,
    "start_time": "2024-08-21T23:49:38.876Z"
   },
   {
    "duration": 7,
    "start_time": "2024-08-21T23:50:35.442Z"
   },
   {
    "duration": 7,
    "start_time": "2024-08-21T23:50:52.202Z"
   },
   {
    "duration": 22,
    "start_time": "2024-08-22T00:23:03.004Z"
   },
   {
    "duration": 9,
    "start_time": "2024-08-22T00:23:19.257Z"
   },
   {
    "duration": 217,
    "start_time": "2024-08-22T00:24:55.315Z"
   },
   {
    "duration": 323,
    "start_time": "2024-08-22T00:26:48.307Z"
   },
   {
    "duration": 360,
    "start_time": "2024-08-22T00:27:03.347Z"
   },
   {
    "duration": 317,
    "start_time": "2024-08-22T00:27:10.002Z"
   },
   {
    "duration": 24,
    "start_time": "2024-08-22T00:44:11.472Z"
   },
   {
    "duration": 24,
    "start_time": "2024-08-22T00:45:00.509Z"
   },
   {
    "duration": 22,
    "start_time": "2024-08-22T00:45:16.809Z"
   },
   {
    "duration": 22,
    "start_time": "2024-08-22T00:45:26.185Z"
   },
   {
    "duration": 32,
    "start_time": "2024-08-22T00:45:47.494Z"
   },
   {
    "duration": 26,
    "start_time": "2024-08-22T00:46:55.987Z"
   },
   {
    "duration": 34,
    "start_time": "2024-08-22T00:47:09.372Z"
   },
   {
    "duration": 24,
    "start_time": "2024-08-22T00:49:17.792Z"
   },
   {
    "duration": 25,
    "start_time": "2024-08-22T00:49:27.470Z"
   },
   {
    "duration": 24,
    "start_time": "2024-08-22T00:52:25.352Z"
   },
   {
    "duration": 34,
    "start_time": "2024-08-22T01:00:07.717Z"
   },
   {
    "duration": 24,
    "start_time": "2024-08-22T01:00:31.335Z"
   },
   {
    "duration": 28,
    "start_time": "2024-08-22T01:12:14.280Z"
   },
   {
    "duration": 24,
    "start_time": "2024-08-22T01:15:55.617Z"
   },
   {
    "duration": 6,
    "start_time": "2024-08-22T01:16:40.092Z"
   },
   {
    "duration": 23,
    "start_time": "2024-08-22T01:17:42.405Z"
   },
   {
    "duration": 7,
    "start_time": "2024-08-22T01:18:29.629Z"
   },
   {
    "duration": 25,
    "start_time": "2024-08-22T01:20:23.028Z"
   },
   {
    "duration": 15,
    "start_time": "2024-08-22T01:27:02.999Z"
   },
   {
    "duration": 7,
    "start_time": "2024-08-22T01:27:26.441Z"
   },
   {
    "duration": 168,
    "start_time": "2024-08-22T01:28:12.817Z"
   },
   {
    "duration": 496,
    "start_time": "2024-08-22T01:28:27.340Z"
   },
   {
    "duration": 474,
    "start_time": "2024-08-22T01:28:43.954Z"
   },
   {
    "duration": 3,
    "start_time": "2024-08-22T01:28:50.795Z"
   },
   {
    "duration": 513,
    "start_time": "2024-08-22T01:29:06.640Z"
   },
   {
    "duration": 496,
    "start_time": "2024-08-22T01:29:56.126Z"
   },
   {
    "duration": 256,
    "start_time": "2024-08-22T01:41:33.098Z"
   },
   {
    "duration": 43,
    "start_time": "2024-08-22T01:41:45.437Z"
   },
   {
    "duration": 42,
    "start_time": "2024-08-22T01:41:49.762Z"
   },
   {
    "duration": 26,
    "start_time": "2024-08-22T01:45:12.447Z"
   },
   {
    "duration": 249,
    "start_time": "2024-08-22T01:45:42.104Z"
   },
   {
    "duration": 62,
    "start_time": "2024-08-22T01:46:29.136Z"
   },
   {
    "duration": 320,
    "start_time": "2024-08-22T12:24:03.600Z"
   },
   {
    "duration": 21,
    "start_time": "2024-08-22T12:24:20.868Z"
   },
   {
    "duration": 22,
    "start_time": "2024-08-22T12:24:40.084Z"
   },
   {
    "duration": 437,
    "start_time": "2024-08-22T12:24:49.977Z"
   },
   {
    "duration": 248,
    "start_time": "2024-08-22T12:24:54.308Z"
   },
   {
    "duration": 87,
    "start_time": "2024-08-22T12:24:59.508Z"
   },
   {
    "duration": 10,
    "start_time": "2024-08-22T12:25:01.978Z"
   },
   {
    "duration": 10,
    "start_time": "2024-08-22T12:25:04.873Z"
   },
   {
    "duration": 1388,
    "start_time": "2024-08-22T12:25:07.800Z"
   },
   {
    "duration": 23,
    "start_time": "2024-08-22T12:25:10.624Z"
   },
   {
    "duration": 220,
    "start_time": "2024-08-22T12:25:17.972Z"
   },
   {
    "duration": 8,
    "start_time": "2024-08-22T12:31:46.379Z"
   },
   {
    "duration": 198,
    "start_time": "2024-08-22T12:32:16.976Z"
   },
   {
    "duration": 370,
    "start_time": "2024-08-22T12:34:12.203Z"
   },
   {
    "duration": 183,
    "start_time": "2024-08-22T12:34:42.492Z"
   },
   {
    "duration": 181,
    "start_time": "2024-08-22T12:34:48.450Z"
   },
   {
    "duration": 25,
    "start_time": "2024-08-22T12:35:29.010Z"
   },
   {
    "duration": 8,
    "start_time": "2024-08-22T12:37:36.584Z"
   },
   {
    "duration": 10,
    "start_time": "2024-08-22T12:37:40.690Z"
   },
   {
    "duration": 13,
    "start_time": "2024-08-22T12:57:30.646Z"
   },
   {
    "duration": 57,
    "start_time": "2024-08-22T12:58:05.743Z"
   },
   {
    "duration": 24,
    "start_time": "2024-08-22T12:58:19.456Z"
   },
   {
    "duration": 22,
    "start_time": "2024-08-22T13:01:28.234Z"
   },
   {
    "duration": 22,
    "start_time": "2024-08-22T13:02:06.004Z"
   },
   {
    "duration": 22,
    "start_time": "2024-08-22T13:04:02.576Z"
   },
   {
    "duration": 6,
    "start_time": "2024-08-22T13:04:45.146Z"
   },
   {
    "duration": 1429,
    "start_time": "2024-08-22T13:04:53.971Z"
   },
   {
    "duration": 1385,
    "start_time": "2024-08-22T13:04:56.094Z"
   },
   {
    "duration": 1420,
    "start_time": "2024-08-22T13:05:17.376Z"
   },
   {
    "duration": 1386,
    "start_time": "2024-08-22T13:09:08.292Z"
   },
   {
    "duration": 9,
    "start_time": "2024-08-22T13:09:27.366Z"
   },
   {
    "duration": 23,
    "start_time": "2024-08-22T13:09:30.645Z"
   },
   {
    "duration": 17,
    "start_time": "2024-08-22T13:09:34.429Z"
   },
   {
    "duration": 18,
    "start_time": "2024-08-22T13:09:38.671Z"
   },
   {
    "duration": 16,
    "start_time": "2024-08-22T13:09:42.112Z"
   },
   {
    "duration": 33,
    "start_time": "2024-08-22T13:09:47.831Z"
   },
   {
    "duration": 29,
    "start_time": "2024-08-22T13:09:52.705Z"
   },
   {
    "duration": 14,
    "start_time": "2024-08-22T13:09:57.971Z"
   },
   {
    "duration": 54,
    "start_time": "2024-08-22T13:10:01.159Z"
   },
   {
    "duration": 24,
    "start_time": "2024-08-22T13:10:03.873Z"
   },
   {
    "duration": 24,
    "start_time": "2024-08-22T13:18:55.222Z"
   },
   {
    "duration": 25,
    "start_time": "2024-08-22T13:19:37.003Z"
   },
   {
    "duration": 22,
    "start_time": "2024-08-22T13:24:39.261Z"
   },
   {
    "duration": 22,
    "start_time": "2024-08-22T13:24:47.485Z"
   },
   {
    "duration": 23,
    "start_time": "2024-08-22T13:27:11.630Z"
   },
   {
    "duration": 24,
    "start_time": "2024-08-22T13:29:46.840Z"
   },
   {
    "duration": 24,
    "start_time": "2024-08-22T13:29:54.247Z"
   },
   {
    "duration": 24,
    "start_time": "2024-08-22T13:32:52.912Z"
   },
   {
    "duration": 22,
    "start_time": "2024-08-22T13:32:55.768Z"
   },
   {
    "duration": 27,
    "start_time": "2024-08-22T13:33:20.969Z"
   },
   {
    "duration": 23,
    "start_time": "2024-08-22T13:33:26.801Z"
   },
   {
    "duration": 6,
    "start_time": "2024-08-22T13:36:49.742Z"
   },
   {
    "duration": 7,
    "start_time": "2024-08-22T13:36:52.499Z"
   },
   {
    "duration": 4351,
    "start_time": "2024-08-22T13:36:58.536Z"
   },
   {
    "duration": 276,
    "start_time": "2024-08-22T13:37:07.762Z"
   },
   {
    "duration": 65,
    "start_time": "2024-08-22T13:40:58.866Z"
   },
   {
    "duration": 1154,
    "start_time": "2024-08-22T14:17:17.298Z"
   },
   {
    "duration": 168,
    "start_time": "2024-09-02T13:23:03.025Z"
   },
   {
    "duration": 11,
    "start_time": "2024-09-02T13:23:50.073Z"
   },
   {
    "duration": 11,
    "start_time": "2024-09-02T13:23:58.471Z"
   },
   {
    "duration": 315,
    "start_time": "2024-09-02T13:24:20.214Z"
   },
   {
    "duration": 156,
    "start_time": "2024-09-02T13:24:24.860Z"
   },
   {
    "duration": 10,
    "start_time": "2024-09-02T13:24:37.528Z"
   },
   {
    "duration": 22,
    "start_time": "2024-09-02T13:25:20.808Z"
   },
   {
    "duration": 391,
    "start_time": "2024-09-02T13:27:46.427Z"
   },
   {
    "duration": 117,
    "start_time": "2024-09-02T13:28:01.098Z"
   },
   {
    "duration": 4,
    "start_time": "2024-09-02T13:28:46.932Z"
   },
   {
    "duration": 190,
    "start_time": "2024-09-02T13:28:54.884Z"
   },
   {
    "duration": 29,
    "start_time": "2024-09-02T13:29:17.069Z"
   },
   {
    "duration": 4,
    "start_time": "2024-09-02T13:30:48.878Z"
   },
   {
    "duration": 8,
    "start_time": "2024-09-02T13:30:57.998Z"
   },
   {
    "duration": 12,
    "start_time": "2024-09-02T13:38:26.085Z"
   },
   {
    "duration": 63,
    "start_time": "2024-09-02T13:38:40.928Z"
   },
   {
    "duration": 7,
    "start_time": "2024-09-02T13:38:44.112Z"
   },
   {
    "duration": 6,
    "start_time": "2024-09-02T13:38:46.265Z"
   },
   {
    "duration": 7,
    "start_time": "2024-09-02T13:38:49.080Z"
   },
   {
    "duration": 789,
    "start_time": "2024-09-02T13:38:53.944Z"
   },
   {
    "duration": 18,
    "start_time": "2024-09-02T13:39:07.496Z"
   },
   {
    "duration": 11,
    "start_time": "2024-09-02T13:53:35.979Z"
   },
   {
    "duration": 5,
    "start_time": "2024-09-02T13:53:39.576Z"
   },
   {
    "duration": 4,
    "start_time": "2024-09-02T13:54:26.316Z"
   },
   {
    "duration": 12,
    "start_time": "2024-09-02T13:58:39.631Z"
   },
   {
    "duration": 14,
    "start_time": "2024-09-02T13:58:53.783Z"
   },
   {
    "duration": 8,
    "start_time": "2024-09-02T13:59:35.339Z"
   },
   {
    "duration": 16,
    "start_time": "2024-09-02T14:14:11.714Z"
   },
   {
    "duration": 7,
    "start_time": "2024-09-02T14:14:20.829Z"
   },
   {
    "duration": 8,
    "start_time": "2024-09-02T14:15:01.401Z"
   },
   {
    "duration": 8,
    "start_time": "2024-09-02T14:15:09.155Z"
   },
   {
    "duration": 8,
    "start_time": "2024-09-02T14:15:18.055Z"
   },
   {
    "duration": 4,
    "start_time": "2024-09-02T14:20:16.394Z"
   },
   {
    "duration": 4,
    "start_time": "2024-09-02T14:21:32.977Z"
   },
   {
    "duration": 4,
    "start_time": "2024-09-02T14:22:07.828Z"
   },
   {
    "duration": 5,
    "start_time": "2024-09-02T14:30:30.843Z"
   },
   {
    "duration": 4,
    "start_time": "2024-09-02T14:31:30.845Z"
   },
   {
    "duration": 4,
    "start_time": "2024-09-02T14:31:47.540Z"
   },
   {
    "duration": 4,
    "start_time": "2024-09-02T14:31:52.950Z"
   },
   {
    "duration": 3,
    "start_time": "2024-09-02T14:32:22.903Z"
   },
   {
    "duration": 120,
    "start_time": "2024-09-02T14:32:22.908Z"
   },
   {
    "duration": 36,
    "start_time": "2024-09-02T14:32:23.029Z"
   },
   {
    "duration": 5,
    "start_time": "2024-09-02T14:32:23.068Z"
   },
   {
    "duration": 14,
    "start_time": "2024-09-02T14:32:23.075Z"
   },
   {
    "duration": 743,
    "start_time": "2024-09-02T14:32:23.090Z"
   },
   {
    "duration": 13,
    "start_time": "2024-09-02T14:32:23.835Z"
   },
   {
    "duration": 90,
    "start_time": "2024-09-02T14:32:23.849Z"
   },
   {
    "duration": 82,
    "start_time": "2024-09-02T14:32:23.943Z"
   },
   {
    "duration": 79,
    "start_time": "2024-09-02T14:32:24.027Z"
   },
   {
    "duration": 82,
    "start_time": "2024-09-02T14:32:24.108Z"
   },
   {
    "duration": 7,
    "start_time": "2024-09-02T14:32:24.193Z"
   },
   {
    "duration": 12,
    "start_time": "2024-09-02T14:32:24.201Z"
   },
   {
    "duration": 6,
    "start_time": "2024-09-02T14:32:24.214Z"
   },
   {
    "duration": 28,
    "start_time": "2024-09-02T14:32:24.222Z"
   },
   {
    "duration": 46,
    "start_time": "2024-09-02T14:32:24.252Z"
   },
   {
    "duration": 4,
    "start_time": "2024-09-02T14:32:24.299Z"
   },
   {
    "duration": 4,
    "start_time": "2024-09-02T14:32:24.305Z"
   },
   {
    "duration": 4,
    "start_time": "2024-09-02T14:32:24.311Z"
   },
   {
    "duration": 3,
    "start_time": "2024-09-02T14:32:24.316Z"
   },
   {
    "duration": 742,
    "start_time": "2024-09-02T14:32:24.321Z"
   },
   {
    "duration": 714,
    "start_time": "2024-09-02T14:32:25.065Z"
   },
   {
    "duration": 9,
    "start_time": "2024-09-02T14:32:25.781Z"
   },
   {
    "duration": 3,
    "start_time": "2024-09-02T14:32:25.795Z"
   },
   {
    "duration": 0,
    "start_time": "2024-09-02T14:32:25.800Z"
   },
   {
    "duration": 0,
    "start_time": "2024-09-02T14:32:25.801Z"
   },
   {
    "duration": 0,
    "start_time": "2024-09-02T14:32:25.803Z"
   },
   {
    "duration": 0,
    "start_time": "2024-09-02T14:32:25.804Z"
   },
   {
    "duration": 0,
    "start_time": "2024-09-02T14:32:25.805Z"
   },
   {
    "duration": 0,
    "start_time": "2024-09-02T14:32:25.806Z"
   },
   {
    "duration": 0,
    "start_time": "2024-09-02T14:32:25.807Z"
   },
   {
    "duration": 0,
    "start_time": "2024-09-02T14:32:25.808Z"
   },
   {
    "duration": 0,
    "start_time": "2024-09-02T14:32:25.809Z"
   },
   {
    "duration": 0,
    "start_time": "2024-09-02T14:32:25.810Z"
   },
   {
    "duration": 0,
    "start_time": "2024-09-02T14:32:25.811Z"
   },
   {
    "duration": 0,
    "start_time": "2024-09-02T14:32:25.812Z"
   },
   {
    "duration": 0,
    "start_time": "2024-09-02T14:32:25.813Z"
   },
   {
    "duration": 0,
    "start_time": "2024-09-02T14:32:25.814Z"
   },
   {
    "duration": 0,
    "start_time": "2024-09-02T14:32:25.815Z"
   },
   {
    "duration": 0,
    "start_time": "2024-09-02T14:32:25.817Z"
   },
   {
    "duration": 0,
    "start_time": "2024-09-02T14:32:25.818Z"
   },
   {
    "duration": 0,
    "start_time": "2024-09-02T14:32:25.818Z"
   },
   {
    "duration": 0,
    "start_time": "2024-09-02T14:32:25.819Z"
   },
   {
    "duration": 0,
    "start_time": "2024-09-02T14:32:25.820Z"
   },
   {
    "duration": 9,
    "start_time": "2024-09-02T14:32:59.259Z"
   },
   {
    "duration": 90,
    "start_time": "2024-09-02T14:34:10.639Z"
   },
   {
    "duration": 25,
    "start_time": "2024-09-02T14:35:24.661Z"
   },
   {
    "duration": 5,
    "start_time": "2024-09-02T14:46:50.832Z"
   },
   {
    "duration": 2,
    "start_time": "2024-09-02T14:49:06.297Z"
   },
   {
    "duration": 112,
    "start_time": "2024-09-02T14:49:06.303Z"
   },
   {
    "duration": 30,
    "start_time": "2024-09-02T14:49:06.417Z"
   },
   {
    "duration": 4,
    "start_time": "2024-09-02T14:49:06.449Z"
   },
   {
    "duration": 5,
    "start_time": "2024-09-02T14:49:06.455Z"
   },
   {
    "duration": 696,
    "start_time": "2024-09-02T14:49:06.462Z"
   },
   {
    "duration": 13,
    "start_time": "2024-09-02T14:49:07.160Z"
   },
   {
    "duration": 76,
    "start_time": "2024-09-02T14:49:07.175Z"
   },
   {
    "duration": 81,
    "start_time": "2024-09-02T14:49:07.253Z"
   },
   {
    "duration": 85,
    "start_time": "2024-09-02T14:49:07.336Z"
   },
   {
    "duration": 85,
    "start_time": "2024-09-02T14:49:07.424Z"
   },
   {
    "duration": 7,
    "start_time": "2024-09-02T14:49:07.511Z"
   },
   {
    "duration": 12,
    "start_time": "2024-09-02T14:49:07.520Z"
   },
   {
    "duration": 8,
    "start_time": "2024-09-02T14:49:07.533Z"
   },
   {
    "duration": 54,
    "start_time": "2024-09-02T14:49:07.542Z"
   },
   {
    "duration": 16,
    "start_time": "2024-09-02T14:49:07.598Z"
   },
   {
    "duration": 4,
    "start_time": "2024-09-02T14:49:07.616Z"
   },
   {
    "duration": 6,
    "start_time": "2024-09-02T14:49:07.621Z"
   },
   {
    "duration": 5,
    "start_time": "2024-09-02T14:49:07.628Z"
   },
   {
    "duration": 4,
    "start_time": "2024-09-02T14:49:07.634Z"
   },
   {
    "duration": 776,
    "start_time": "2024-09-02T14:49:07.639Z"
   },
   {
    "duration": 721,
    "start_time": "2024-09-02T14:49:08.417Z"
   },
   {
    "duration": 5,
    "start_time": "2024-09-02T14:49:09.140Z"
   },
   {
    "duration": 6,
    "start_time": "2024-09-02T14:49:09.147Z"
   },
   {
    "duration": 9,
    "start_time": "2024-09-02T14:49:09.155Z"
   },
   {
    "duration": 8,
    "start_time": "2024-09-02T14:49:09.187Z"
   },
   {
    "duration": 8,
    "start_time": "2024-09-02T14:49:09.197Z"
   },
   {
    "duration": 8,
    "start_time": "2024-09-02T14:49:09.207Z"
   },
   {
    "duration": 7,
    "start_time": "2024-09-02T14:49:09.219Z"
   },
   {
    "duration": 7,
    "start_time": "2024-09-02T14:49:09.227Z"
   },
   {
    "duration": 51,
    "start_time": "2024-09-02T14:49:09.236Z"
   },
   {
    "duration": 31,
    "start_time": "2024-09-02T14:49:09.289Z"
   },
   {
    "duration": 13,
    "start_time": "2024-09-02T14:49:09.323Z"
   },
   {
    "duration": 0,
    "start_time": "2024-09-02T14:49:09.338Z"
   },
   {
    "duration": 0,
    "start_time": "2024-09-02T14:49:09.339Z"
   },
   {
    "duration": 0,
    "start_time": "2024-09-02T14:49:09.340Z"
   },
   {
    "duration": 0,
    "start_time": "2024-09-02T14:49:09.342Z"
   },
   {
    "duration": 0,
    "start_time": "2024-09-02T14:49:09.344Z"
   },
   {
    "duration": 0,
    "start_time": "2024-09-02T14:49:09.345Z"
   },
   {
    "duration": 0,
    "start_time": "2024-09-02T14:49:09.346Z"
   },
   {
    "duration": 0,
    "start_time": "2024-09-02T14:49:09.348Z"
   },
   {
    "duration": 0,
    "start_time": "2024-09-02T14:49:09.349Z"
   },
   {
    "duration": 0,
    "start_time": "2024-09-02T14:49:09.351Z"
   },
   {
    "duration": 0,
    "start_time": "2024-09-02T14:49:09.352Z"
   },
   {
    "duration": 18,
    "start_time": "2024-09-02T14:55:08.203Z"
   },
   {
    "duration": 682,
    "start_time": "2024-09-02T14:55:32.516Z"
   },
   {
    "duration": 622,
    "start_time": "2024-09-02T14:56:39.561Z"
   },
   {
    "duration": 654,
    "start_time": "2024-09-02T14:56:42.885Z"
   },
   {
    "duration": 5,
    "start_time": "2024-09-02T14:56:52.119Z"
   },
   {
    "duration": 8,
    "start_time": "2024-09-02T14:57:24.081Z"
   },
   {
    "duration": 16,
    "start_time": "2024-09-02T14:57:54.744Z"
   },
   {
    "duration": 8,
    "start_time": "2024-09-02T14:57:59.906Z"
   },
   {
    "duration": 9,
    "start_time": "2024-09-02T14:58:20.271Z"
   },
   {
    "duration": 25,
    "start_time": "2024-09-02T14:58:26.952Z"
   },
   {
    "duration": 102,
    "start_time": "2024-09-02T15:01:00.395Z"
   },
   {
    "duration": 101,
    "start_time": "2024-09-02T15:01:05.227Z"
   },
   {
    "duration": 7,
    "start_time": "2024-09-02T15:01:48.021Z"
   },
   {
    "duration": 104,
    "start_time": "2024-09-02T15:02:02.310Z"
   },
   {
    "duration": 8,
    "start_time": "2024-09-02T15:03:40.179Z"
   },
   {
    "duration": 103,
    "start_time": "2024-09-02T15:03:49.476Z"
   },
   {
    "duration": 101,
    "start_time": "2024-09-02T15:04:54.529Z"
   },
   {
    "duration": 24,
    "start_time": "2024-09-02T15:05:21.049Z"
   },
   {
    "duration": 105,
    "start_time": "2024-09-02T15:07:40.259Z"
   },
   {
    "duration": 100,
    "start_time": "2024-09-02T15:08:40.210Z"
   },
   {
    "duration": 25,
    "start_time": "2024-09-02T15:10:46.865Z"
   },
   {
    "duration": 27,
    "start_time": "2024-09-02T15:11:42.009Z"
   },
   {
    "duration": 690,
    "start_time": "2024-09-02T15:18:25.201Z"
   },
   {
    "duration": 16,
    "start_time": "2024-09-02T15:19:26.850Z"
   },
   {
    "duration": 9,
    "start_time": "2024-09-02T15:19:34.564Z"
   },
   {
    "duration": 26,
    "start_time": "2024-09-02T15:19:38.792Z"
   },
   {
    "duration": 6,
    "start_time": "2024-09-02T15:26:58.655Z"
   },
   {
    "duration": 41,
    "start_time": "2024-09-02T15:27:28.844Z"
   },
   {
    "duration": 37,
    "start_time": "2024-09-02T15:27:57.535Z"
   },
   {
    "duration": 40,
    "start_time": "2024-09-02T15:28:12.358Z"
   },
   {
    "duration": 8,
    "start_time": "2024-09-02T15:29:00.256Z"
   },
   {
    "duration": 12,
    "start_time": "2024-09-02T15:30:25.664Z"
   },
   {
    "duration": 7,
    "start_time": "2024-09-02T15:30:37.944Z"
   },
   {
    "duration": 7,
    "start_time": "2024-09-02T15:31:39.677Z"
   },
   {
    "duration": 8,
    "start_time": "2024-09-02T15:32:02.670Z"
   },
   {
    "duration": 16,
    "start_time": "2024-09-02T15:32:08.886Z"
   },
   {
    "duration": 18,
    "start_time": "2024-09-02T15:32:20.252Z"
   },
   {
    "duration": 7,
    "start_time": "2024-09-02T15:32:41.920Z"
   },
   {
    "duration": 5,
    "start_time": "2024-09-02T15:33:08.958Z"
   },
   {
    "duration": 8,
    "start_time": "2024-09-02T15:33:16.166Z"
   },
   {
    "duration": 14,
    "start_time": "2024-09-02T15:34:03.373Z"
   },
   {
    "duration": 27,
    "start_time": "2024-09-02T15:34:15.688Z"
   },
   {
    "duration": 8,
    "start_time": "2024-09-02T15:34:56.208Z"
   },
   {
    "duration": 38,
    "start_time": "2024-09-02T15:36:49.589Z"
   },
   {
    "duration": 5,
    "start_time": "2024-09-02T19:20:12.049Z"
   },
   {
    "duration": 5,
    "start_time": "2024-09-02T19:20:31.094Z"
   },
   {
    "duration": 6,
    "start_time": "2024-09-02T19:22:13.276Z"
   },
   {
    "duration": 5,
    "start_time": "2024-09-02T19:22:26.950Z"
   },
   {
    "duration": 3,
    "start_time": "2024-09-02T19:22:36.449Z"
   },
   {
    "duration": 5,
    "start_time": "2024-09-02T19:23:42.092Z"
   },
   {
    "duration": 2126,
    "start_time": "2024-09-02T20:06:47.716Z"
   },
   {
    "duration": 105,
    "start_time": "2024-09-02T20:09:12.452Z"
   },
   {
    "duration": 105,
    "start_time": "2024-09-02T20:09:37.680Z"
   },
   {
    "duration": 23,
    "start_time": "2024-09-02T20:13:36.184Z"
   },
   {
    "duration": 13,
    "start_time": "2024-09-02T20:13:49.581Z"
   },
   {
    "duration": 13,
    "start_time": "2024-09-02T20:13:55.099Z"
   },
   {
    "duration": 18,
    "start_time": "2024-09-02T20:14:28.291Z"
   },
   {
    "duration": 2,
    "start_time": "2024-09-02T20:14:40.791Z"
   },
   {
    "duration": 110,
    "start_time": "2024-09-02T20:14:40.796Z"
   },
   {
    "duration": 29,
    "start_time": "2024-09-02T20:14:40.908Z"
   },
   {
    "duration": 5,
    "start_time": "2024-09-02T20:14:40.941Z"
   },
   {
    "duration": 5,
    "start_time": "2024-09-02T20:14:40.948Z"
   },
   {
    "duration": 684,
    "start_time": "2024-09-02T20:14:40.955Z"
   },
   {
    "duration": 13,
    "start_time": "2024-09-02T20:14:41.641Z"
   },
   {
    "duration": 78,
    "start_time": "2024-09-02T20:14:41.656Z"
   },
   {
    "duration": 73,
    "start_time": "2024-09-02T20:14:41.736Z"
   },
   {
    "duration": 78,
    "start_time": "2024-09-02T20:14:41.811Z"
   },
   {
    "duration": 62,
    "start_time": "2024-09-02T20:14:41.892Z"
   },
   {
    "duration": 7,
    "start_time": "2024-09-02T20:14:41.956Z"
   },
   {
    "duration": 29,
    "start_time": "2024-09-02T20:14:41.964Z"
   },
   {
    "duration": 7,
    "start_time": "2024-09-02T20:14:41.995Z"
   },
   {
    "duration": 38,
    "start_time": "2024-09-02T20:14:42.004Z"
   },
   {
    "duration": 43,
    "start_time": "2024-09-02T20:14:42.044Z"
   },
   {
    "duration": 4,
    "start_time": "2024-09-02T20:14:42.089Z"
   },
   {
    "duration": 4,
    "start_time": "2024-09-02T20:14:42.095Z"
   },
   {
    "duration": 4,
    "start_time": "2024-09-02T20:14:42.101Z"
   },
   {
    "duration": 4,
    "start_time": "2024-09-02T20:14:42.106Z"
   },
   {
    "duration": 654,
    "start_time": "2024-09-02T20:14:42.111Z"
   },
   {
    "duration": 661,
    "start_time": "2024-09-02T20:14:42.767Z"
   },
   {
    "duration": 5,
    "start_time": "2024-09-02T20:14:43.430Z"
   },
   {
    "duration": 5,
    "start_time": "2024-09-02T20:14:43.437Z"
   },
   {
    "duration": 10,
    "start_time": "2024-09-02T20:14:43.443Z"
   },
   {
    "duration": 35,
    "start_time": "2024-09-02T20:14:43.455Z"
   },
   {
    "duration": 13,
    "start_time": "2024-09-02T20:14:43.492Z"
   },
   {
    "duration": 9,
    "start_time": "2024-09-02T20:14:43.507Z"
   },
   {
    "duration": 6,
    "start_time": "2024-09-02T20:14:43.520Z"
   },
   {
    "duration": 7,
    "start_time": "2024-09-02T20:14:43.528Z"
   },
   {
    "duration": 15,
    "start_time": "2024-09-02T20:14:43.537Z"
   },
   {
    "duration": 67,
    "start_time": "2024-09-02T20:14:43.554Z"
   },
   {
    "duration": 13,
    "start_time": "2024-09-02T20:14:43.623Z"
   },
   {
    "duration": 0,
    "start_time": "2024-09-02T20:14:43.638Z"
   },
   {
    "duration": 0,
    "start_time": "2024-09-02T20:14:43.640Z"
   },
   {
    "duration": 0,
    "start_time": "2024-09-02T20:14:43.641Z"
   },
   {
    "duration": 0,
    "start_time": "2024-09-02T20:14:43.643Z"
   },
   {
    "duration": 0,
    "start_time": "2024-09-02T20:14:43.645Z"
   },
   {
    "duration": 0,
    "start_time": "2024-09-02T20:14:43.646Z"
   },
   {
    "duration": 13,
    "start_time": "2024-09-02T20:14:53.640Z"
   },
   {
    "duration": 13,
    "start_time": "2024-09-02T20:15:06.207Z"
   },
   {
    "duration": 13,
    "start_time": "2024-09-02T20:15:29.751Z"
   },
   {
    "duration": 186,
    "start_time": "2024-09-02T20:16:09.778Z"
   },
   {
    "duration": 104,
    "start_time": "2024-09-02T20:16:23.921Z"
   },
   {
    "duration": 14,
    "start_time": "2024-09-02T20:18:02.395Z"
   },
   {
    "duration": 13,
    "start_time": "2024-09-02T20:18:40.868Z"
   },
   {
    "duration": 107,
    "start_time": "2024-09-02T20:19:02.296Z"
   },
   {
    "duration": 13,
    "start_time": "2024-09-02T20:19:48.552Z"
   },
   {
    "duration": 3,
    "start_time": "2024-09-02T20:20:07.025Z"
   },
   {
    "duration": 98,
    "start_time": "2024-09-02T20:20:07.030Z"
   },
   {
    "duration": 28,
    "start_time": "2024-09-02T20:20:07.130Z"
   },
   {
    "duration": 4,
    "start_time": "2024-09-02T20:20:07.161Z"
   },
   {
    "duration": 20,
    "start_time": "2024-09-02T20:20:07.167Z"
   },
   {
    "duration": 667,
    "start_time": "2024-09-02T20:20:07.189Z"
   },
   {
    "duration": 17,
    "start_time": "2024-09-02T20:20:07.858Z"
   },
   {
    "duration": 72,
    "start_time": "2024-09-02T20:20:07.877Z"
   },
   {
    "duration": 80,
    "start_time": "2024-09-02T20:20:07.952Z"
   },
   {
    "duration": 74,
    "start_time": "2024-09-02T20:20:08.034Z"
   },
   {
    "duration": 78,
    "start_time": "2024-09-02T20:20:08.109Z"
   },
   {
    "duration": 8,
    "start_time": "2024-09-02T20:20:08.189Z"
   },
   {
    "duration": 11,
    "start_time": "2024-09-02T20:20:08.199Z"
   },
   {
    "duration": 7,
    "start_time": "2024-09-02T20:20:08.211Z"
   },
   {
    "duration": 29,
    "start_time": "2024-09-02T20:20:08.219Z"
   },
   {
    "duration": 50,
    "start_time": "2024-09-02T20:20:08.249Z"
   },
   {
    "duration": 5,
    "start_time": "2024-09-02T20:20:08.301Z"
   },
   {
    "duration": 5,
    "start_time": "2024-09-02T20:20:08.307Z"
   },
   {
    "duration": 4,
    "start_time": "2024-09-02T20:20:08.313Z"
   },
   {
    "duration": 3,
    "start_time": "2024-09-02T20:20:08.319Z"
   },
   {
    "duration": 672,
    "start_time": "2024-09-02T20:20:08.324Z"
   },
   {
    "duration": 644,
    "start_time": "2024-09-02T20:20:08.998Z"
   },
   {
    "duration": 6,
    "start_time": "2024-09-02T20:20:09.644Z"
   },
   {
    "duration": 5,
    "start_time": "2024-09-02T20:20:09.655Z"
   },
   {
    "duration": 27,
    "start_time": "2024-09-02T20:20:09.662Z"
   },
   {
    "duration": 10,
    "start_time": "2024-09-02T20:20:09.690Z"
   },
   {
    "duration": 9,
    "start_time": "2024-09-02T20:20:09.701Z"
   },
   {
    "duration": 8,
    "start_time": "2024-09-02T20:20:09.711Z"
   },
   {
    "duration": 6,
    "start_time": "2024-09-02T20:20:09.721Z"
   },
   {
    "duration": 7,
    "start_time": "2024-09-02T20:20:09.729Z"
   },
   {
    "duration": 56,
    "start_time": "2024-09-02T20:20:09.738Z"
   },
   {
    "duration": 27,
    "start_time": "2024-09-02T20:20:09.796Z"
   },
   {
    "duration": 14,
    "start_time": "2024-09-02T20:20:09.824Z"
   },
   {
    "duration": 0,
    "start_time": "2024-09-02T20:20:09.840Z"
   },
   {
    "duration": 0,
    "start_time": "2024-09-02T20:20:09.841Z"
   },
   {
    "duration": 0,
    "start_time": "2024-09-02T20:20:09.842Z"
   },
   {
    "duration": 0,
    "start_time": "2024-09-02T20:20:09.843Z"
   },
   {
    "duration": 0,
    "start_time": "2024-09-02T20:20:09.844Z"
   },
   {
    "duration": 0,
    "start_time": "2024-09-02T20:20:09.845Z"
   },
   {
    "duration": 0,
    "start_time": "2024-09-02T20:20:09.846Z"
   },
   {
    "duration": 0,
    "start_time": "2024-09-02T20:20:09.847Z"
   },
   {
    "duration": 0,
    "start_time": "2024-09-02T20:20:09.848Z"
   },
   {
    "duration": 0,
    "start_time": "2024-09-02T20:20:09.849Z"
   },
   {
    "duration": 0,
    "start_time": "2024-09-02T20:20:09.850Z"
   },
   {
    "duration": 165,
    "start_time": "2024-09-02T20:20:26.846Z"
   },
   {
    "duration": 113,
    "start_time": "2024-09-02T20:20:31.654Z"
   },
   {
    "duration": 13,
    "start_time": "2024-09-02T20:20:35.944Z"
   },
   {
    "duration": 13,
    "start_time": "2024-09-02T20:20:51.414Z"
   },
   {
    "duration": 14,
    "start_time": "2024-09-02T20:21:15.352Z"
   },
   {
    "duration": 11,
    "start_time": "2024-09-02T20:21:23.503Z"
   },
   {
    "duration": 13,
    "start_time": "2024-09-02T20:22:04.412Z"
   },
   {
    "duration": 13,
    "start_time": "2024-09-02T20:22:12.551Z"
   },
   {
    "duration": 15,
    "start_time": "2024-09-02T20:22:36.524Z"
   },
   {
    "duration": 15,
    "start_time": "2024-09-02T20:22:46.800Z"
   },
   {
    "duration": 14,
    "start_time": "2024-09-02T20:22:57.161Z"
   },
   {
    "duration": 149,
    "start_time": "2024-09-02T20:23:34.995Z"
   },
   {
    "duration": 4,
    "start_time": "2024-09-02T20:24:11.819Z"
   },
   {
    "duration": 18,
    "start_time": "2024-09-02T20:24:17.186Z"
   },
   {
    "duration": 110,
    "start_time": "2024-09-02T20:24:29.299Z"
   },
   {
    "duration": 111,
    "start_time": "2024-09-02T20:24:36.132Z"
   },
   {
    "duration": 106,
    "start_time": "2024-09-02T20:25:43.501Z"
   },
   {
    "duration": 129,
    "start_time": "2024-09-02T20:30:48.182Z"
   },
   {
    "duration": 807,
    "start_time": "2024-09-02T20:31:37.471Z"
   },
   {
    "duration": 237,
    "start_time": "2024-09-02T20:31:52.759Z"
   },
   {
    "duration": 130,
    "start_time": "2024-09-02T20:32:00.936Z"
   },
   {
    "duration": 16,
    "start_time": "2024-09-02T20:37:51.740Z"
   },
   {
    "duration": 22,
    "start_time": "2024-09-02T20:38:06.854Z"
   },
   {
    "duration": 11,
    "start_time": "2024-09-02T20:38:13.051Z"
   },
   {
    "duration": 24,
    "start_time": "2024-09-02T20:38:17.160Z"
   },
   {
    "duration": 11,
    "start_time": "2024-09-02T20:38:32.589Z"
   },
   {
    "duration": 288,
    "start_time": "2024-09-02T20:39:00.230Z"
   },
   {
    "duration": 3,
    "start_time": "2024-09-02T20:39:55.959Z"
   },
   {
    "duration": 2,
    "start_time": "2024-09-02T20:39:59.928Z"
   },
   {
    "duration": 35,
    "start_time": "2024-09-02T20:42:25.708Z"
   },
   {
    "duration": 134,
    "start_time": "2024-09-02T20:43:29.274Z"
   },
   {
    "duration": 141,
    "start_time": "2024-09-02T20:45:17.666Z"
   },
   {
    "duration": 144,
    "start_time": "2024-09-02T20:45:26.569Z"
   },
   {
    "duration": 133,
    "start_time": "2024-09-02T20:46:47.713Z"
   },
   {
    "duration": 12,
    "start_time": "2024-09-02T20:48:54.540Z"
   },
   {
    "duration": 15,
    "start_time": "2024-09-02T20:49:03.191Z"
   },
   {
    "duration": 13,
    "start_time": "2024-09-02T20:49:07.659Z"
   },
   {
    "duration": 13,
    "start_time": "2024-09-02T20:50:40.877Z"
   },
   {
    "duration": 3,
    "start_time": "2024-09-02T20:50:52.930Z"
   },
   {
    "duration": 102,
    "start_time": "2024-09-02T20:50:52.935Z"
   },
   {
    "duration": 30,
    "start_time": "2024-09-02T20:50:53.038Z"
   },
   {
    "duration": 5,
    "start_time": "2024-09-02T20:50:53.070Z"
   },
   {
    "duration": 9,
    "start_time": "2024-09-02T20:50:53.078Z"
   },
   {
    "duration": 723,
    "start_time": "2024-09-02T20:50:53.089Z"
   },
   {
    "duration": 13,
    "start_time": "2024-09-02T20:50:53.814Z"
   },
   {
    "duration": 73,
    "start_time": "2024-09-02T20:50:53.828Z"
   },
   {
    "duration": 84,
    "start_time": "2024-09-02T20:50:53.903Z"
   },
   {
    "duration": 71,
    "start_time": "2024-09-02T20:50:53.989Z"
   },
   {
    "duration": 86,
    "start_time": "2024-09-02T20:50:54.062Z"
   },
   {
    "duration": 8,
    "start_time": "2024-09-02T20:50:54.150Z"
   },
   {
    "duration": 12,
    "start_time": "2024-09-02T20:50:54.159Z"
   },
   {
    "duration": 6,
    "start_time": "2024-09-02T20:50:54.187Z"
   },
   {
    "duration": 28,
    "start_time": "2024-09-02T20:50:54.195Z"
   },
   {
    "duration": 17,
    "start_time": "2024-09-02T20:50:54.225Z"
   },
   {
    "duration": 4,
    "start_time": "2024-09-02T20:50:54.243Z"
   },
   {
    "duration": 4,
    "start_time": "2024-09-02T20:50:54.249Z"
   },
   {
    "duration": 4,
    "start_time": "2024-09-02T20:50:54.286Z"
   },
   {
    "duration": 4,
    "start_time": "2024-09-02T20:50:54.291Z"
   },
   {
    "duration": 678,
    "start_time": "2024-09-02T20:50:54.297Z"
   },
   {
    "duration": 681,
    "start_time": "2024-09-02T20:50:54.977Z"
   },
   {
    "duration": 6,
    "start_time": "2024-09-02T20:50:55.661Z"
   },
   {
    "duration": 6,
    "start_time": "2024-09-02T20:50:55.668Z"
   },
   {
    "duration": 10,
    "start_time": "2024-09-02T20:50:55.687Z"
   },
   {
    "duration": 9,
    "start_time": "2024-09-02T20:50:55.698Z"
   },
   {
    "duration": 9,
    "start_time": "2024-09-02T20:50:55.708Z"
   },
   {
    "duration": 9,
    "start_time": "2024-09-02T20:50:55.718Z"
   },
   {
    "duration": 6,
    "start_time": "2024-09-02T20:50:55.729Z"
   },
   {
    "duration": 7,
    "start_time": "2024-09-02T20:50:55.736Z"
   },
   {
    "duration": 54,
    "start_time": "2024-09-02T20:50:55.745Z"
   },
   {
    "duration": 30,
    "start_time": "2024-09-02T20:50:55.800Z"
   },
   {
    "duration": 13,
    "start_time": "2024-09-02T20:50:55.831Z"
   },
   {
    "duration": 0,
    "start_time": "2024-09-02T20:50:55.846Z"
   },
   {
    "duration": 0,
    "start_time": "2024-09-02T20:50:55.847Z"
   },
   {
    "duration": 0,
    "start_time": "2024-09-02T20:50:55.849Z"
   },
   {
    "duration": 0,
    "start_time": "2024-09-02T20:50:55.850Z"
   },
   {
    "duration": 0,
    "start_time": "2024-09-02T20:50:55.851Z"
   },
   {
    "duration": 0,
    "start_time": "2024-09-02T20:50:55.852Z"
   },
   {
    "duration": 0,
    "start_time": "2024-09-02T20:50:55.854Z"
   },
   {
    "duration": 0,
    "start_time": "2024-09-02T20:50:55.887Z"
   },
   {
    "duration": 0,
    "start_time": "2024-09-02T20:50:55.888Z"
   },
   {
    "duration": 0,
    "start_time": "2024-09-02T20:50:55.889Z"
   },
   {
    "duration": 13,
    "start_time": "2024-09-02T20:51:00.956Z"
   },
   {
    "duration": 15,
    "start_time": "2024-09-02T20:51:21.725Z"
   },
   {
    "duration": 666,
    "start_time": "2024-09-02T20:55:26.540Z"
   },
   {
    "duration": 6,
    "start_time": "2024-09-02T20:55:48.188Z"
   },
   {
    "duration": 564,
    "start_time": "2024-09-02T20:56:06.781Z"
   },
   {
    "duration": 13,
    "start_time": "2024-09-02T20:58:26.660Z"
   },
   {
    "duration": 13,
    "start_time": "2024-09-02T20:58:53.035Z"
   },
   {
    "duration": 436,
    "start_time": "2024-09-02T20:59:36.466Z"
   },
   {
    "duration": 437,
    "start_time": "2024-09-02T21:00:22.171Z"
   },
   {
    "duration": 440,
    "start_time": "2024-09-02T21:00:42.298Z"
   },
   {
    "duration": 426,
    "start_time": "2024-09-02T21:00:52.243Z"
   },
   {
    "duration": 455,
    "start_time": "2024-09-02T21:01:19.035Z"
   },
   {
    "duration": 447,
    "start_time": "2024-09-02T21:01:35.644Z"
   },
   {
    "duration": 442,
    "start_time": "2024-09-02T21:01:39.518Z"
   },
   {
    "duration": 430,
    "start_time": "2024-09-02T21:01:44.676Z"
   },
   {
    "duration": 426,
    "start_time": "2024-09-02T21:01:56.613Z"
   },
   {
    "duration": 443,
    "start_time": "2024-09-02T21:02:14.909Z"
   },
   {
    "duration": 435,
    "start_time": "2024-09-02T21:02:32.166Z"
   },
   {
    "duration": 443,
    "start_time": "2024-09-02T21:02:40.756Z"
   },
   {
    "duration": 430,
    "start_time": "2024-09-02T21:02:50.159Z"
   },
   {
    "duration": 426,
    "start_time": "2024-09-02T21:04:11.637Z"
   },
   {
    "duration": 435,
    "start_time": "2024-09-02T21:04:23.319Z"
   },
   {
    "duration": 438,
    "start_time": "2024-09-02T21:04:37.972Z"
   },
   {
    "duration": 428,
    "start_time": "2024-09-02T21:05:39.417Z"
   },
   {
    "duration": 632,
    "start_time": "2024-09-02T21:13:51.916Z"
   },
   {
    "duration": 555,
    "start_time": "2024-09-02T21:14:42.524Z"
   },
   {
    "duration": 8,
    "start_time": "2024-09-02T21:15:19.495Z"
   },
   {
    "duration": 154,
    "start_time": "2024-09-02T21:16:46.040Z"
   },
   {
    "duration": 165,
    "start_time": "2024-09-02T21:17:05.953Z"
   },
   {
    "duration": 1373,
    "start_time": "2024-09-02T21:17:51.029Z"
   },
   {
    "duration": 1425,
    "start_time": "2024-09-02T21:18:24.352Z"
   },
   {
    "duration": 17,
    "start_time": "2024-09-02T21:19:16.947Z"
   },
   {
    "duration": 189,
    "start_time": "2024-09-02T21:19:25.276Z"
   },
   {
    "duration": 196,
    "start_time": "2024-09-02T21:19:27.756Z"
   },
   {
    "duration": 195,
    "start_time": "2024-09-02T21:19:51.044Z"
   },
   {
    "duration": 188,
    "start_time": "2024-09-02T21:20:10.020Z"
   },
   {
    "duration": 182,
    "start_time": "2024-09-02T21:20:59.997Z"
   },
   {
    "duration": 188,
    "start_time": "2024-09-02T21:21:13.310Z"
   },
   {
    "duration": 188,
    "start_time": "2024-09-02T21:21:20.301Z"
   },
   {
    "duration": 197,
    "start_time": "2024-09-02T21:21:42.989Z"
   },
   {
    "duration": 1020,
    "start_time": "2024-09-02T21:22:32.534Z"
   },
   {
    "duration": 383,
    "start_time": "2024-09-02T21:22:54.892Z"
   },
   {
    "duration": 328,
    "start_time": "2024-09-02T21:23:19.860Z"
   },
   {
    "duration": 333,
    "start_time": "2024-09-02T21:25:28.258Z"
   },
   {
    "duration": 1189,
    "start_time": "2024-09-02T21:25:42.363Z"
   },
   {
    "duration": 979,
    "start_time": "2024-09-02T21:26:18.483Z"
   },
   {
    "duration": 985,
    "start_time": "2024-09-02T21:26:35.988Z"
   },
   {
    "duration": 1007,
    "start_time": "2024-09-02T21:26:55.006Z"
   },
   {
    "duration": 5,
    "start_time": "2024-09-02T21:27:07.558Z"
   },
   {
    "duration": 995,
    "start_time": "2024-09-02T21:27:14.731Z"
   },
   {
    "duration": 1155,
    "start_time": "2024-09-02T21:28:13.190Z"
   },
   {
    "duration": 35,
    "start_time": "2024-09-02T21:28:43.498Z"
   },
   {
    "duration": 1188,
    "start_time": "2024-09-02T21:29:17.368Z"
   },
   {
    "duration": 996,
    "start_time": "2024-09-02T21:29:28.146Z"
   },
   {
    "duration": 1008,
    "start_time": "2024-09-02T21:29:40.351Z"
   },
   {
    "duration": 1020,
    "start_time": "2024-09-02T21:29:47.640Z"
   },
   {
    "duration": 993,
    "start_time": "2024-09-02T21:29:59.008Z"
   },
   {
    "duration": 990,
    "start_time": "2024-09-02T21:30:08.902Z"
   },
   {
    "duration": 1037,
    "start_time": "2024-09-02T21:31:28.304Z"
   },
   {
    "duration": 516,
    "start_time": "2024-09-02T21:31:51.387Z"
   },
   {
    "duration": 534,
    "start_time": "2024-09-02T21:32:00.531Z"
   },
   {
    "duration": 756,
    "start_time": "2024-09-02T21:32:15.395Z"
   },
   {
    "duration": 565,
    "start_time": "2024-09-02T21:32:23.366Z"
   },
   {
    "duration": 516,
    "start_time": "2024-09-02T21:32:38.308Z"
   },
   {
    "duration": 518,
    "start_time": "2024-09-02T21:32:52.221Z"
   },
   {
    "duration": 737,
    "start_time": "2024-09-02T21:33:32.838Z"
   },
   {
    "duration": 523,
    "start_time": "2024-09-02T21:33:45.157Z"
   },
   {
    "duration": 8,
    "start_time": "2024-09-02T23:06:50.925Z"
   },
   {
    "duration": 5,
    "start_time": "2024-09-02T23:09:15.578Z"
   },
   {
    "duration": 5,
    "start_time": "2024-09-02T23:09:17.671Z"
   },
   {
    "duration": 136,
    "start_time": "2024-09-02T23:19:20.318Z"
   },
   {
    "duration": 242,
    "start_time": "2024-09-02T23:19:25.520Z"
   },
   {
    "duration": 128,
    "start_time": "2024-09-02T23:19:30.905Z"
   },
   {
    "duration": 110,
    "start_time": "2024-09-02T23:19:34.094Z"
   },
   {
    "duration": 165,
    "start_time": "2024-09-02T23:19:37.925Z"
   }
  ],
  "colab": {
   "provenance": []
  },
  "kernelspec": {
   "display_name": "Python 3 (ipykernel)",
   "language": "python",
   "name": "python3"
  },
  "language_info": {
   "codemirror_mode": {
    "name": "ipython",
    "version": 3
   },
   "file_extension": ".py",
   "mimetype": "text/x-python",
   "name": "python",
   "nbconvert_exporter": "python",
   "pygments_lexer": "ipython3",
   "version": "3.9.19"
  },
  "toc": {
   "base_numbering": 1,
   "nav_menu": {},
   "number_sections": true,
   "sideBar": true,
   "skip_h1_title": true,
   "title_cell": "Table of Contents",
   "title_sidebar": "Contents",
   "toc_cell": false,
   "toc_position": {},
   "toc_section_display": true,
   "toc_window_display": false
  },
  "vscode": {
   "interpreter": {
    "hash": "01a7be9ec63e704a62cefc5fe7a4756944464ee731be31632bdf42a4cb4688cf"
   }
  }
 },
 "nbformat": 4,
 "nbformat_minor": 5
}
